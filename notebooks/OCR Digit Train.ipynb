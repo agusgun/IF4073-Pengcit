{
 "cells": [
  {
   "cell_type": "code",
   "execution_count": 1,
   "metadata": {},
   "outputs": [],
   "source": [
    "from PIL import Image\n",
    "import numpy as np\n",
    "import os\n",
    "from pylab import *"
   ]
  },
  {
   "cell_type": "markdown",
   "metadata": {},
   "source": [
    "# Get Dataset"
   ]
  },
  {
   "cell_type": "code",
   "execution_count": 2,
   "metadata": {},
   "outputs": [],
   "source": [
    "def get_imlist(path):\n",
    "    return [os.path.join(path,f) for f in os.listdir(path) if f.endswith('.png')]"
   ]
  },
  {
   "cell_type": "code",
   "execution_count": 3,
   "metadata": {},
   "outputs": [],
   "source": [
    "dataset = sorted(get_imlist('datasets/digit/'))"
   ]
  },
  {
   "cell_type": "markdown",
   "metadata": {},
   "source": [
    "# Chain Code Stuff"
   ]
  },
  {
   "cell_type": "code",
   "execution_count": 4,
   "metadata": {},
   "outputs": [],
   "source": [
    "X_TRANSLATOR = [1, 1, 0, -1, -1, -1, 0, 1]\n",
    "Y_TRANSLATOR = [0, 1, 1, 1, 0, -1, -1, -1]\n",
    "\n",
    "def is_border(image, x, y):\n",
    "    i = 0\n",
    "    while (i < 8):\n",
    "        next_x = x + X_TRANSLATOR[i]\n",
    "        next_y = y + Y_TRANSLATOR[i]\n",
    "        \n",
    "        next_pixel_color = image[next_y][next_x]\n",
    "        if (next_pixel_color > 127):\n",
    "            return True\n",
    "        i += 2;\n",
    "        \n",
    "    return False\n",
    "\n",
    "# Directions:\n",
    "# |5|6|7|\n",
    "# |4| |0|\n",
    "# |3|2|1|\n",
    "def image_chain_code(image_path):\n",
    "    result = []\n",
    "    \n",
    "    \n",
    "    image = array(Image.open(image_path).convert('L'))\n",
    "    found = False\n",
    "    \n",
    "    # Start Pixel\n",
    "    start_value = (-1, -1)\n",
    "    for i, row in enumerate(image):\n",
    "        for j, value in enumerate(row):\n",
    "            if value <= 127:\n",
    "                start_value = (j, i)\n",
    "                found = True\n",
    "                print(start_value)\n",
    "            if found:\n",
    "                break\n",
    "        \n",
    "        if found:\n",
    "            break\n",
    "    \n",
    "    # Check Start Value Change\n",
    "    if start_value == (-1, -1):\n",
    "        return []\n",
    "    else:\n",
    "        maks = 0\n",
    "        # ChainCode Start Here\n",
    "        \n",
    "        start_x = start_value[0]\n",
    "        start_y = start_value[1]\n",
    "        \n",
    "        prev_x = -1\n",
    "        prev_y = -1\n",
    "        \n",
    "        prev2_x = -1\n",
    "        prev2_y = -1\n",
    "        \n",
    "        direction = 0\n",
    "        \n",
    "        x = start_x\n",
    "        y = start_y\n",
    "        \n",
    "        # Outer Do While\n",
    "        while True:\n",
    "            i = 0\n",
    "            found = False\n",
    "            \n",
    "            # Inner Do While\n",
    "            while True:\n",
    "                \n",
    "                next_dir = (direction + i) % 8\n",
    "            \n",
    "                next_x = x + X_TRANSLATOR[next_dir]\n",
    "                next_y = y + Y_TRANSLATOR[next_dir]\n",
    "                \n",
    "                if ((next_x != prev_x or next_y != prev_y) and (next_x != prev2_x or next_y != prev2_y)):\n",
    "                    next_pixel_color = image[next_y][next_x]\n",
    "                    if (next_pixel_color <= 127 and is_border(image, next_x, next_y)):\n",
    "                        direction = next_dir\n",
    "                        result.append(direction)\n",
    "\n",
    "#                         maks += 1\n",
    "#                         if maks > 1000:\n",
    "#                             return result\n",
    "\n",
    "                        prev2_x = prev_x\n",
    "                        prev2_y = prev_y\n",
    "    \n",
    "                        prev_x = x\n",
    "                        prev_y = y\n",
    "                        x = next_x\n",
    "                        y = next_y\n",
    "                        found = True\n",
    "                    else:\n",
    "                        i += 1\n",
    "                else:\n",
    "                    i += 1\n",
    "                \n",
    "                if found or i >= 8:\n",
    "                    break\n",
    "                            \n",
    "            if i >= 8 or (x == start_x and y == start_y):\n",
    "                break\n",
    "        \n",
    "        return result"
   ]
  },
  {
   "cell_type": "code",
   "execution_count": 5,
   "metadata": {},
   "outputs": [],
   "source": [
    "def image_chain_code_histogram(image_path):\n",
    "    \"\"\"\n",
    "    Return list of chaincode histogram\n",
    "    \"\"\"\n",
    "    chain_code = image_chain_code(image_path)\n",
    "    result = [0, 0, 0, 0, 0, 0, 0, 0]\n",
    "    \n",
    "    for code in chain_code:\n",
    "        result[code] += 1\n",
    "        \n",
    "    return result\n",
    "\n",
    "def normalize(X):\n",
    "    for i, row in enumerate(X):\n",
    "        sum = 0\n",
    "        for value in row:\n",
    "            sum += value\n",
    "\n",
    "        for j, value in enumerate(row):\n",
    "            X[i][j] = value / sum\n",
    "    return X"
   ]
  },
  {
   "cell_type": "code",
   "execution_count": 6,
   "metadata": {},
   "outputs": [
    {
     "data": {
      "text/plain": [
       "['datasets/digit/0.png',\n",
       " 'datasets/digit/1.png',\n",
       " 'datasets/digit/2.png',\n",
       " 'datasets/digit/3.png',\n",
       " 'datasets/digit/4.png',\n",
       " 'datasets/digit/5.png',\n",
       " 'datasets/digit/6.png',\n",
       " 'datasets/digit/7.png',\n",
       " 'datasets/digit/8.png',\n",
       " 'datasets/digit/9.png']"
      ]
     },
     "execution_count": 6,
     "metadata": {},
     "output_type": "execute_result"
    }
   ],
   "source": [
    "dataset"
   ]
  },
  {
   "cell_type": "code",
   "execution_count": 7,
   "metadata": {
    "scrolled": true
   },
   "outputs": [
    {
     "name": "stdout",
     "output_type": "stream",
     "text": [
      "(34, 15)\n"
     ]
    }
   ],
   "source": [
    "result = image_chain_code(dataset[9])"
   ]
  },
  {
   "cell_type": "code",
   "execution_count": 8,
   "metadata": {},
   "outputs": [],
   "source": [
    "x = [34]\n",
    "y = [15]"
   ]
  },
  {
   "cell_type": "code",
   "execution_count": 9,
   "metadata": {},
   "outputs": [],
   "source": [
    "for i in result:\n",
    "    x.append(x[len(x) - 1] + X_TRANSLATOR[i])\n",
    "    y.append(y[len(y) - 1] + Y_TRANSLATOR[i])"
   ]
  },
  {
   "cell_type": "code",
   "execution_count": 10,
   "metadata": {},
   "outputs": [
    {
     "data": {
      "text/plain": [
       "(322,)"
      ]
     },
     "execution_count": 10,
     "metadata": {},
     "output_type": "execute_result"
    }
   ],
   "source": [
    "np.array(result).shape"
   ]
  },
  {
   "cell_type": "code",
   "execution_count": 11,
   "metadata": {},
   "outputs": [
    {
     "data": {
      "image/png": "[encoded data removed]",
      "text/plain": [
       "<Figure size 432x288 with 1 Axes>"
      ]
     },
     "metadata": {},
     "output_type": "display_data"
    }
   ],
   "source": [
    "im = array(Image.open(dataset[9]).convert('L'))\n",
    "\n",
    "imshow(im)\n",
    "\n",
    "plot(x,y,'r*')\n",
    "show()"
   ]
  },
  {
   "cell_type": "markdown",
   "metadata": {},
   "source": [
    "# Convert Each Dataset"
   ]
  },
  {
   "cell_type": "markdown",
   "metadata": {},
   "source": [
    "## Create Dataset With Histogram"
   ]
  },
  {
   "cell_type": "code",
   "execution_count": 12,
   "metadata": {},
   "outputs": [],
   "source": [
    "X = []\n",
    "y = []"
   ]
  },
  {
   "cell_type": "code",
   "execution_count": 13,
   "metadata": {},
   "outputs": [
    {
     "name": "stdout",
     "output_type": "stream",
     "text": [
      "(31, 15)\n",
      "(40, 14)\n",
      "(34, 14)\n",
      "(31, 15)\n",
      "(44, 15)\n",
      "(18, 16)\n",
      "(36, 15)\n",
      "(9, 15)\n",
      "(34, 15)\n",
      "(34, 15)\n"
     ]
    }
   ],
   "source": [
    "i = 0\n",
    "for file_path in dataset:\n",
    "    X.append(image_chain_code_histogram(file_path))\n",
    "    y.append(i)\n",
    "    i += 1"
   ]
  },
  {
   "cell_type": "code",
   "execution_count": 14,
   "metadata": {},
   "outputs": [
    {
     "data": {
      "text/plain": [
       "[[23, 17, 57, 17, 23, 17, 57, 17],\n",
       " [12, 0, 90, 12, 19, 1, 81, 20],\n",
       " [71, 15, 42, 51, 85, 11, 36, 61],\n",
       " [61, 35, 53, 38, 60, 37, 50, 39],\n",
       " [19, 1, 87, 1, 59, 1, 47, 41],\n",
       " [90, 27, 63, 31, 85, 28, 66, 27],\n",
       " [45, 30, 54, 32, 46, 27, 59, 30],\n",
       " [57, 0, 55, 34, 52, 1, 58, 30],\n",
       " [31, 26, 39, 26, 30, 26, 40, 25],\n",
       " [45, 27, 59, 30, 45, 29, 55, 32]]"
      ]
     },
     "execution_count": 14,
     "metadata": {},
     "output_type": "execute_result"
    }
   ],
   "source": [
    "X"
   ]
  },
  {
   "cell_type": "code",
   "execution_count": null,
   "metadata": {},
   "outputs": [],
   "source": []
  },
  {
   "cell_type": "code",
   "execution_count": 15,
   "metadata": {},
   "outputs": [
    {
     "data": {
      "text/plain": [
       "[[0.10087719298245613,\n",
       "  0.07456140350877193,\n",
       "  0.25,\n",
       "  0.07456140350877193,\n",
       "  0.10087719298245613,\n",
       "  0.07456140350877193,\n",
       "  0.25,\n",
       "  0.07456140350877193],\n",
       " [0.05106382978723404,\n",
       "  0.0,\n",
       "  0.3829787234042553,\n",
       "  0.05106382978723404,\n",
       "  0.08085106382978724,\n",
       "  0.00425531914893617,\n",
       "  0.3446808510638298,\n",
       "  0.0851063829787234],\n",
       " [0.19086021505376344,\n",
       "  0.04032258064516129,\n",
       "  0.11290322580645161,\n",
       "  0.13709677419354838,\n",
       "  0.22849462365591397,\n",
       "  0.02956989247311828,\n",
       "  0.0967741935483871,\n",
       "  0.1639784946236559],\n",
       " [0.16353887399463807,\n",
       "  0.0938337801608579,\n",
       "  0.14209115281501342,\n",
       "  0.10187667560321716,\n",
       "  0.16085790884718498,\n",
       "  0.09919571045576407,\n",
       "  0.13404825737265416,\n",
       "  0.10455764075067024],\n",
       " [0.07421875,\n",
       "  0.00390625,\n",
       "  0.33984375,\n",
       "  0.00390625,\n",
       "  0.23046875,\n",
       "  0.00390625,\n",
       "  0.18359375,\n",
       "  0.16015625],\n",
       " [0.2158273381294964,\n",
       "  0.06474820143884892,\n",
       "  0.1510791366906475,\n",
       "  0.07434052757793765,\n",
       "  0.2038369304556355,\n",
       "  0.0671462829736211,\n",
       "  0.15827338129496402,\n",
       "  0.06474820143884892],\n",
       " [0.1393188854489164,\n",
       "  0.09287925696594428,\n",
       "  0.16718266253869968,\n",
       "  0.09907120743034056,\n",
       "  0.14241486068111456,\n",
       "  0.08359133126934984,\n",
       "  0.1826625386996904,\n",
       "  0.09287925696594428],\n",
       " [0.1986062717770035,\n",
       "  0.0,\n",
       "  0.1916376306620209,\n",
       "  0.11846689895470383,\n",
       "  0.18118466898954705,\n",
       "  0.003484320557491289,\n",
       "  0.20209059233449478,\n",
       "  0.10452961672473868],\n",
       " [0.12757201646090535,\n",
       "  0.10699588477366255,\n",
       "  0.16049382716049382,\n",
       "  0.10699588477366255,\n",
       "  0.12345679012345678,\n",
       "  0.10699588477366255,\n",
       "  0.1646090534979424,\n",
       "  0.102880658436214],\n",
       " [0.13975155279503104,\n",
       "  0.08385093167701864,\n",
       "  0.18322981366459629,\n",
       "  0.09316770186335403,\n",
       "  0.13975155279503104,\n",
       "  0.09006211180124224,\n",
       "  0.17080745341614906,\n",
       "  0.09937888198757763]]"
      ]
     },
     "execution_count": 15,
     "metadata": {},
     "output_type": "execute_result"
    }
   ],
   "source": [
    "X = normalize(X)\n",
    "X"
   ]
  },
  {
   "cell_type": "code",
   "execution_count": 16,
   "metadata": {},
   "outputs": [
    {
     "data": {
      "text/plain": [
       "[0, 1, 2, 3, 4, 5, 6, 7, 8, 9]"
      ]
     },
     "execution_count": 16,
     "metadata": {},
     "output_type": "execute_result"
    }
   ],
   "source": [
    "y"
   ]
  },
  {
   "cell_type": "code",
   "execution_count": 17,
   "metadata": {},
   "outputs": [],
   "source": [
    "from sklearn.neighbors import KNeighborsClassifier\n",
    "from sklearn.naive_bayes import GaussianNB"
   ]
  },
  {
   "cell_type": "code",
   "execution_count": 18,
   "metadata": {},
   "outputs": [
    {
     "data": {
      "text/plain": [
       "KNeighborsClassifier(algorithm='auto', leaf_size=30, metric='minkowski',\n",
       "           metric_params=None, n_jobs=1, n_neighbors=1, p=2,\n",
       "           weights='uniform')"
      ]
     },
     "execution_count": 18,
     "metadata": {},
     "output_type": "execute_result"
    }
   ],
   "source": [
    "knn = KNeighborsClassifier(n_neighbors=1)\n",
    "knn.fit(X, y)"
   ]
  },
  {
   "cell_type": "code",
   "execution_count": 19,
   "metadata": {},
   "outputs": [
    {
     "data": {
      "text/plain": [
       "array([0, 1, 2, 3, 4, 5, 6, 7, 8, 9])"
      ]
     },
     "execution_count": 19,
     "metadata": {},
     "output_type": "execute_result"
    }
   ],
   "source": [
    "predicted = knn.predict(X)\n",
    "predicted"
   ]
  },
  {
   "cell_type": "code",
   "execution_count": 20,
   "metadata": {},
   "outputs": [
    {
     "data": {
      "image/png": "[encoded data removed]",
      "text/plain": [
       "<Figure size 432x288 with 1 Axes>"
      ]
     },
     "metadata": {},
     "output_type": "display_data"
    },
    {
     "name": "stdout",
     "output_type": "stream",
     "text": [
      "[0]\n"
     ]
    },
    {
     "data": {
      "image/png": "[encoded data removed]",
      "text/plain": [
       "<Figure size 432x288 with 1 Axes>"
      ]
     },
     "metadata": {},
     "output_type": "display_data"
    },
    {
     "name": "stdout",
     "output_type": "stream",
     "text": [
      "[1]\n"
     ]
    },
    {
     "data": {
      "image/png": "[encoded data removed]",
      "text/plain": [
       "<Figure size 432x288 with 1 Axes>"
      ]
     },
     "metadata": {},
     "output_type": "display_data"
    },
    {
     "name": "stdout",
     "output_type": "stream",
     "text": [
      "[2]\n"
     ]
    },
    {
     "data": {
      "image/png": "[encoded data removed]",
      "text/plain": [
       "<Figure size 432x288 with 1 Axes>"
      ]
     },
     "metadata": {},
     "output_type": "display_data"
    },
    {
     "name": "stdout",
     "output_type": "stream",
     "text": [
      "[3]\n"
     ]
    },
    {
     "data": {
      "image/png": "[encoded data removed]",
      "text/plain": [
       "<Figure size 432x288 with 1 Axes>"
      ]
     },
     "metadata": {},
     "output_type": "display_data"
    },
    {
     "name": "stdout",
     "output_type": "stream",
     "text": [
      "[4]\n"
     ]
    },
    {
     "data": {
      "image/png": "[encoded data removed]",
      "text/plain": [
       "<Figure size 432x288 with 1 Axes>"
      ]
     },
     "metadata": {},
     "output_type": "display_data"
    },
    {
     "name": "stdout",
     "output_type": "stream",
     "text": [
      "[5]\n"
     ]
    },
    {
     "data": {
      "image/png": "[encoded data removed]",
      "text/plain": [
       "<Figure size 432x288 with 1 Axes>"
      ]
     },
     "metadata": {},
     "output_type": "display_data"
    },
    {
     "name": "stdout",
     "output_type": "stream",
     "text": [
      "[6]\n"
     ]
    },
    {
     "data": {
      "image/png": "[encoded data removed]",
      "text/plain": [
       "<Figure size 432x288 with 1 Axes>"
      ]
     },
     "metadata": {},
     "output_type": "display_data"
    },
    {
     "name": "stdout",
     "output_type": "stream",
     "text": [
      "[7]\n"
     ]
    },
    {
     "data": {
      "image/png": "[encoded data removed]",
      "text/plain": [
       "<Figure size 432x288 with 1 Axes>"
      ]
     },
     "metadata": {},
     "output_type": "display_data"
    },
    {
     "name": "stdout",
     "output_type": "stream",
     "text": [
      "[8]\n"
     ]
    },
    {
     "data": {
      "image/png": "[encoded data removed]",
      "text/plain": [
       "<Figure size 432x288 with 1 Axes>"
      ]
     },
     "metadata": {},
     "output_type": "display_data"
    },
    {
     "name": "stdout",
     "output_type": "stream",
     "text": [
      "[9]\n"
     ]
    }
   ],
   "source": [
    "for index, histogram in enumerate(X):\n",
    "    figure(index)\n",
    "    imshow(array(Image.open(dataset[index]).convert('L')))\n",
    "    show()\n",
    "    predicted = knn.predict([histogram])\n",
    "    print(predicted)"
   ]
  },
  {
   "cell_type": "markdown",
   "metadata": {},
   "source": [
    "# Test"
   ]
  },
  {
   "cell_type": "code",
   "execution_count": 21,
   "metadata": {},
   "outputs": [],
   "source": [
    "test_filepath = get_imlist('datasets/digit/test')"
   ]
  },
  {
   "cell_type": "code",
   "execution_count": 22,
   "metadata": {},
   "outputs": [
    {
     "data": {
      "text/plain": [
       "'datasets/digit/test/7.png'"
      ]
     },
     "execution_count": 22,
     "metadata": {},
     "output_type": "execute_result"
    }
   ],
   "source": [
    "test_filepath[0]"
   ]
  },
  {
   "cell_type": "code",
   "execution_count": 23,
   "metadata": {},
   "outputs": [
    {
     "name": "stdout",
     "output_type": "stream",
     "text": [
      "(75, 50)\n",
      "(109, 48)\n"
     ]
    }
   ],
   "source": [
    "test = []\n",
    "for filepath in test_filepath:\n",
    "    test.append(image_chain_code_histogram(filepath))\n",
    "\n",
    "test = normalize(test)"
   ]
  },
  {
   "cell_type": "code",
   "execution_count": 24,
   "metadata": {},
   "outputs": [
    {
     "data": {
      "image/png": "[encoded data removed]",
      "text/plain": [
       "<Figure size 432x288 with 1 Axes>"
      ]
     },
     "metadata": {},
     "output_type": "display_data"
    },
    {
     "name": "stdout",
     "output_type": "stream",
     "text": [
      "[7]\n"
     ]
    },
    {
     "data": {
      "image/png": "[encoded data removed]",
      "text/plain": [
       "<Figure size 432x288 with 1 Axes>"
      ]
     },
     "metadata": {},
     "output_type": "display_data"
    },
    {
     "name": "stdout",
     "output_type": "stream",
     "text": [
      "[9]\n"
     ]
    }
   ],
   "source": [
    "for index, image_histogram in enumerate(test):\n",
    "    figure(index)\n",
    "    imshow(array(Image.open(test_filepath[index])))\n",
    "    show()\n",
    "    print(knn.predict([image_histogram]))"
   ]
  },
  {
   "cell_type": "code",
   "execution_count": null,
   "metadata": {},
   "outputs": [],
   "source": []
  }
 ],
 "metadata": {
  "kernelspec": {
   "display_name": "Python 3",
   "language": "python",
   "name": "python3"
  },
  "language_info": {
   "codemirror_mode": {
    "name": "ipython",
    "version": 3
   },
   "file_extension": ".py",
   "mimetype": "text/x-python",
   "name": "python",
   "nbconvert_exporter": "python",
   "pygments_lexer": "ipython3",
   "version": "3.6.6"
  }
 },
 "nbformat": 4,
 "nbformat_minor": 2
}
