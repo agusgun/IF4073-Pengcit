{
 "cells": [
  {
   "cell_type": "code",
   "execution_count": 1,
   "metadata": {},
   "outputs": [],
   "source": [
    "from PIL import Image\n",
    "import numpy as np\n",
    "import os\n",
    "from pylab import *"
   ]
  },
  {
   "cell_type": "markdown",
   "metadata": {},
   "source": [
    "# Get Dataset"
   ]
  },
  {
   "cell_type": "code",
   "execution_count": 2,
   "metadata": {},
   "outputs": [],
   "source": [
    "def get_imlist(path):\n",
    "    return [os.path.join(path,f) for f in os.listdir(path)]"
   ]
  },
  {
   "cell_type": "code",
   "execution_count": 3,
   "metadata": {},
   "outputs": [],
   "source": [
    "dataset = get_imlist('datasets/digit/')"
   ]
  },
  {
   "cell_type": "markdown",
   "metadata": {},
   "source": [
    "# Chain Code Stuff"
   ]
  },
  {
   "cell_type": "code",
   "execution_count": 4,
   "metadata": {},
   "outputs": [],
   "source": [
    "X_TRANSLATOR = [1, 1, 0, -1, -1, -1, 0, 1]\n",
    "Y_TRANSLATOR = [0, 1, 1, 1, 0, -1, -1, -1]\n",
    "\n",
    "def is_border(image, x, y):\n",
    "    i = 0\n",
    "    while (i < 8):\n",
    "        next_x = x + X_TRANSLATOR[i]\n",
    "        next_y = y + Y_TRANSLATOR[i]\n",
    "        \n",
    "        next_pixel_color = image[next_y][next_x]\n",
    "        if (next_pixel_color > 20):\n",
    "            return True\n",
    "        i += 2;\n",
    "        \n",
    "    return False\n",
    "\n",
    "# Directions:\n",
    "# |5|6|7|\n",
    "# |4| |0|\n",
    "# |3|2|1|\n",
    "def image_chain_code(image_path):\n",
    "    result = []\n",
    "    \n",
    "    \n",
    "    image = array(Image.open(image_path).convert('L').resize((128, 128)))\n",
    "    found = False\n",
    "    \n",
    "    # Start Pixel\n",
    "    start_value = (-1, -1)\n",
    "    for i, row in enumerate(image):\n",
    "        for j, value in enumerate(row):\n",
    "            if value == 0:\n",
    "                start_value = (j, i)\n",
    "                found = True\n",
    "                print(start_value)\n",
    "            if found:\n",
    "                break\n",
    "        \n",
    "        if found:\n",
    "            break\n",
    "    \n",
    "    # Check Start Value Change\n",
    "    if start_value == (-1, -1):\n",
    "        return []\n",
    "    else:\n",
    "        maks = 0\n",
    "        # ChainCode Start Here\n",
    "        \n",
    "        start_x = start_value[0]\n",
    "        start_y = start_value[1]\n",
    "        \n",
    "        prev_x = -1\n",
    "        prev_y = -1\n",
    "        \n",
    "        direction = 0\n",
    "        \n",
    "        x = start_x\n",
    "        y = start_y\n",
    "        \n",
    "        # Outer Do While\n",
    "        while True:\n",
    "            i = 0\n",
    "            found = False\n",
    "            \n",
    "            # Inner Do While\n",
    "            while True:\n",
    "                \n",
    "                next_dir = (direction + i) % 8\n",
    "            \n",
    "                next_x = x + X_TRANSLATOR[next_dir]\n",
    "                next_y = y + Y_TRANSLATOR[next_dir]\n",
    "                \n",
    "                if (next_x != prev_x or next_y != prev_y):\n",
    "                    next_pixel_color = image[next_y][next_x]\n",
    "                    if (next_pixel_color <= 20 and is_border(image, next_x, next_y)):\n",
    "                        direction = next_dir\n",
    "                        result.append(direction)\n",
    "\n",
    "#                         maks += 1\n",
    "#                         if maks > 1000:\n",
    "#                             return result\n",
    "                        prev_x = x\n",
    "                        prev_y = y\n",
    "                        x = next_x\n",
    "                        y = next_y\n",
    "                        found = True\n",
    "                    else:\n",
    "                        i += 1\n",
    "                else:\n",
    "                    i += 1\n",
    "                \n",
    "                if found or i >= 8:\n",
    "                    break\n",
    "                            \n",
    "            if i >= 8 or (x == start_x and y == start_y):\n",
    "                break\n",
    "        \n",
    "        return result"
   ]
  },
  {
   "cell_type": "code",
   "execution_count": 5,
   "metadata": {},
   "outputs": [],
   "source": [
    "def image_chain_code_histogram(image_path):\n",
    "    \"\"\"\n",
    "    Return list of chaincode histogram\n",
    "    \"\"\"\n",
    "    chain_code = image_chain_code(image_path)\n",
    "    result = [0, 0, 0, 0, 0, 0, 0, 0]\n",
    "    \n",
    "    for code in chain_code:\n",
    "        result[code] += 1\n",
    "        \n",
    "    return result"
   ]
  },
  {
   "cell_type": "code",
   "execution_count": 6,
   "metadata": {
    "scrolled": true
   },
   "outputs": [
    {
     "name": "stdout",
     "output_type": "stream",
     "text": [
      "(82, 17)\n"
     ]
    },
    {
     "ename": "KeyboardInterrupt",
     "evalue": "",
     "output_type": "error",
     "traceback": [
      "\u001b[0;31m---------------------------------------------------------------------------\u001b[0m",
      "\u001b[0;31mKeyboardInterrupt\u001b[0m                         Traceback (most recent call last)",
      "\u001b[0;32m<ipython-input-6-ca3d022509c8>\u001b[0m in \u001b[0;36m<module>\u001b[0;34m()\u001b[0m\n\u001b[0;32m----> 1\u001b[0;31m \u001b[0mresult\u001b[0m \u001b[0;34m=\u001b[0m \u001b[0mimage_chain_code\u001b[0m\u001b[0;34m(\u001b[0m\u001b[0mdataset\u001b[0m\u001b[0;34m[\u001b[0m\u001b[0;36m1\u001b[0m\u001b[0;34m]\u001b[0m\u001b[0;34m)\u001b[0m\u001b[0;34m\u001b[0m\u001b[0m\n\u001b[0m",
      "\u001b[0;32m<ipython-input-4-706605d67b01>\u001b[0m in \u001b[0;36mimage_chain_code\u001b[0;34m(image_path)\u001b[0m\n\u001b[1;32m     73\u001b[0m                 \u001b[0;32mif\u001b[0m \u001b[0;34m(\u001b[0m\u001b[0mnext_x\u001b[0m \u001b[0;34m!=\u001b[0m \u001b[0mprev_x\u001b[0m \u001b[0;32mor\u001b[0m \u001b[0mnext_y\u001b[0m \u001b[0;34m!=\u001b[0m \u001b[0mprev_y\u001b[0m\u001b[0;34m)\u001b[0m\u001b[0;34m:\u001b[0m\u001b[0;34m\u001b[0m\u001b[0m\n\u001b[1;32m     74\u001b[0m                     \u001b[0mnext_pixel_color\u001b[0m \u001b[0;34m=\u001b[0m \u001b[0mimage\u001b[0m\u001b[0;34m[\u001b[0m\u001b[0mnext_y\u001b[0m\u001b[0;34m]\u001b[0m\u001b[0;34m[\u001b[0m\u001b[0mnext_x\u001b[0m\u001b[0;34m]\u001b[0m\u001b[0;34m\u001b[0m\u001b[0m\n\u001b[0;32m---> 75\u001b[0;31m                     \u001b[0;32mif\u001b[0m \u001b[0;34m(\u001b[0m\u001b[0mnext_pixel_color\u001b[0m \u001b[0;34m<=\u001b[0m \u001b[0;36m20\u001b[0m \u001b[0;32mand\u001b[0m \u001b[0mis_border\u001b[0m\u001b[0;34m(\u001b[0m\u001b[0mimage\u001b[0m\u001b[0;34m,\u001b[0m \u001b[0mnext_x\u001b[0m\u001b[0;34m,\u001b[0m \u001b[0mnext_y\u001b[0m\u001b[0;34m)\u001b[0m\u001b[0;34m)\u001b[0m\u001b[0;34m:\u001b[0m\u001b[0;34m\u001b[0m\u001b[0m\n\u001b[0m\u001b[1;32m     76\u001b[0m                         \u001b[0mdirection\u001b[0m \u001b[0;34m=\u001b[0m \u001b[0mnext_dir\u001b[0m\u001b[0;34m\u001b[0m\u001b[0m\n\u001b[1;32m     77\u001b[0m                         \u001b[0mresult\u001b[0m\u001b[0;34m.\u001b[0m\u001b[0mappend\u001b[0m\u001b[0;34m(\u001b[0m\u001b[0mdirection\u001b[0m\u001b[0;34m)\u001b[0m\u001b[0;34m\u001b[0m\u001b[0m\n",
      "\u001b[0;32m<ipython-input-4-706605d67b01>\u001b[0m in \u001b[0;36mis_border\u001b[0;34m(image, x, y)\u001b[0m\n\u001b[1;32m      9\u001b[0m \u001b[0;34m\u001b[0m\u001b[0m\n\u001b[1;32m     10\u001b[0m         \u001b[0mnext_pixel_color\u001b[0m \u001b[0;34m=\u001b[0m \u001b[0mimage\u001b[0m\u001b[0;34m[\u001b[0m\u001b[0mnext_y\u001b[0m\u001b[0;34m]\u001b[0m\u001b[0;34m[\u001b[0m\u001b[0mnext_x\u001b[0m\u001b[0;34m]\u001b[0m\u001b[0;34m\u001b[0m\u001b[0m\n\u001b[0;32m---> 11\u001b[0;31m         \u001b[0;32mif\u001b[0m \u001b[0;34m(\u001b[0m\u001b[0mnext_pixel_color\u001b[0m \u001b[0;34m>\u001b[0m \u001b[0;36m20\u001b[0m\u001b[0;34m)\u001b[0m\u001b[0;34m:\u001b[0m\u001b[0;34m\u001b[0m\u001b[0m\n\u001b[0m\u001b[1;32m     12\u001b[0m             \u001b[0;32mreturn\u001b[0m \u001b[0;32mTrue\u001b[0m\u001b[0;34m\u001b[0m\u001b[0m\n\u001b[1;32m     13\u001b[0m         \u001b[0mi\u001b[0m \u001b[0;34m+=\u001b[0m \u001b[0;36m2\u001b[0m\u001b[0;34m;\u001b[0m\u001b[0;34m\u001b[0m\u001b[0m\n",
      "\u001b[0;31mKeyboardInterrupt\u001b[0m: "
     ]
    }
   ],
   "source": [
    "result = image_chain_code(dataset[1])"
   ]
  },
  {
   "cell_type": "code",
   "execution_count": null,
   "metadata": {},
   "outputs": [],
   "source": [
    "array(Image.open(dataset[1]).convert('L'))[0][0]"
   ]
  },
  {
   "cell_type": "code",
   "execution_count": null,
   "metadata": {},
   "outputs": [],
   "source": [
    "x = [82]\n",
    "y = [17]"
   ]
  },
  {
   "cell_type": "code",
   "execution_count": null,
   "metadata": {},
   "outputs": [],
   "source": [
    "for i in result:\n",
    "    x.append(x[len(x) - 1] + X_TRANSLATOR[i])\n",
    "    y.append(y[len(y) - 1] + Y_TRANSLATOR[i])"
   ]
  },
  {
   "cell_type": "code",
   "execution_count": null,
   "metadata": {},
   "outputs": [],
   "source": [
    "np.array(result).shape"
   ]
  },
  {
   "cell_type": "code",
   "execution_count": null,
   "metadata": {},
   "outputs": [],
   "source": [
    "result[-10:-1]"
   ]
  },
  {
   "cell_type": "code",
   "execution_count": null,
   "metadata": {},
   "outputs": [],
   "source": [
    "result[300]"
   ]
  },
  {
   "cell_type": "code",
   "execution_count": null,
   "metadata": {},
   "outputs": [],
   "source": [
    "x[300]"
   ]
  },
  {
   "cell_type": "code",
   "execution_count": null,
   "metadata": {},
   "outputs": [],
   "source": [
    "y[300]"
   ]
  },
  {
   "cell_type": "code",
   "execution_count": null,
   "metadata": {},
   "outputs": [],
   "source": [
    "im = array(Image.open(dataset[1]).convert('L').resize((128, 128)))\n",
    "\n",
    "imshow(im)\n",
    "\n",
    "plot(x,y,'r*')\n",
    "show()"
   ]
  },
  {
   "cell_type": "code",
   "execution_count": null,
   "metadata": {},
   "outputs": [],
   "source": [
    "x[1000]"
   ]
  },
  {
   "cell_type": "code",
   "execution_count": null,
   "metadata": {},
   "outputs": [],
   "source": [
    "y[1000]"
   ]
  },
  {
   "cell_type": "code",
   "execution_count": null,
   "metadata": {},
   "outputs": [],
   "source": [
    "im[67][23]"
   ]
  },
  {
   "cell_type": "markdown",
   "metadata": {},
   "source": [
    "# Convert Each Dataset"
   ]
  },
  {
   "cell_type": "markdown",
   "metadata": {},
   "source": [
    "## Create Dataset With Histogram"
   ]
  },
  {
   "cell_type": "code",
   "execution_count": null,
   "metadata": {},
   "outputs": [],
   "source": [
    "X = []\n",
    "y = []"
   ]
  },
  {
   "cell_type": "code",
   "execution_count": null,
   "metadata": {},
   "outputs": [],
   "source": [
    "for image_path in dataset_digit_2:\n",
    "    print(image_path)\n",
    "    X.append(image_chain_code_histogram(image_path))\n",
    "    y.append(0)"
   ]
  }
 ],
 "metadata": {
  "kernelspec": {
   "display_name": "Python 3",
   "language": "python",
   "name": "python3"
  },
  "language_info": {
   "codemirror_mode": {
    "name": "ipython",
    "version": 3
   },
   "file_extension": ".py",
   "mimetype": "text/x-python",
   "name": "python",
   "nbconvert_exporter": "python",
   "pygments_lexer": "ipython3",
   "version": "3.6.6"
  }
 },
 "nbformat": 4,
 "nbformat_minor": 2
}
