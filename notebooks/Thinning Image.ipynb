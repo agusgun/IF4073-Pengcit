{
 "cells": [
  {
   "cell_type": "code",
   "execution_count": 1,
   "metadata": {},
   "outputs": [],
   "source": [
    "from pylab import *\n",
    "import numpy as np\n",
    "\n",
    "from PIL import Image"
   ]
  },
  {
   "cell_type": "code",
   "execution_count": 2,
   "metadata": {},
   "outputs": [],
   "source": [
    "THRESHOLD = 127"
   ]
  },
  {
   "cell_type": "code",
   "execution_count": 3,
   "metadata": {},
   "outputs": [
    {
     "data": {
      "text/plain": [
       "array([[255, 255, 255, ..., 255, 255, 255],\n",
       "       [255, 255, 255, ..., 255, 255, 255],\n",
       "       [255, 255, 255, ..., 255, 255, 255],\n",
       "       ...,\n",
       "       [255, 255, 255, ..., 255, 255, 255],\n",
       "       [255, 255, 255, ..., 255, 255, 255],\n",
       "       [255, 255, 255, ..., 255, 255, 255]], dtype=uint8)"
      ]
     },
     "execution_count": 3,
     "metadata": {},
     "output_type": "execute_result"
    }
   ],
   "source": [
    "array(Image.open('datasets/digit/0.png').convert('L'))"
   ]
  },
  {
   "cell_type": "code",
   "execution_count": 4,
   "metadata": {},
   "outputs": [],
   "source": [
    "def convert_image2bw(image):\n",
    "    \n",
    "    bw_image = image.copy()\n",
    "    \n",
    "    for i, row in enumerate(bw_image):\n",
    "        for j, value in enumerate(row):\n",
    "            if bw_image[i][j] <= THRESHOLD:\n",
    "                bw_image[i][j] = 0\n",
    "            else:\n",
    "                bw_image[i][j] = 255\n",
    "    return bw_image"
   ]
  },
  {
   "cell_type": "code",
   "execution_count": 5,
   "metadata": {},
   "outputs": [],
   "source": [
    "def convert_image2bw_10(image):\n",
    "    \n",
    "    bw_image = image.copy()\n",
    "    \n",
    "    for i, row in enumerate(bw_image):\n",
    "        for j, value in enumerate(row):\n",
    "            if bw_image[i][j] <= THRESHOLD:\n",
    "                bw_image[i][j] = 1\n",
    "            else:\n",
    "                bw_image[i][j] = 0\n",
    "    return bw_image"
   ]
  },
  {
   "cell_type": "code",
   "execution_count": 6,
   "metadata": {},
   "outputs": [],
   "source": [
    "result = convert_image2bw(array(Image.open('datasets/digit/0.png').convert('L')))"
   ]
  },
  {
   "cell_type": "code",
   "execution_count": 7,
   "metadata": {},
   "outputs": [
    {
     "data": {
      "text/plain": [
       "array([255, 255, 255, 255, 255, 255, 255, 255, 255, 255, 255, 255, 255,\n",
       "         0,   0,   0,   0,   0,   0,   0,   0,   0,   0,   0,   0,   0,\n",
       "         0,   0, 255, 255, 255, 255, 255, 255, 255, 255, 255, 255, 255,\n",
       "       255,   0,   0,   0,   0,   0,   0,   0,   0,   0,   0,   0,   0,\n",
       "         0,   0,   0, 255, 255, 255, 255, 255, 255, 255, 255, 255, 255,\n",
       "       255, 255, 255, 255], dtype=uint8)"
      ]
     },
     "execution_count": 7,
     "metadata": {},
     "output_type": "execute_result"
    }
   ],
   "source": [
    "result[25]"
   ]
  },
  {
   "cell_type": "code",
   "execution_count": 8,
   "metadata": {},
   "outputs": [
    {
     "data": {
      "text/plain": [
       "<matplotlib.image.AxesImage at 0x7f1ec921b320>"
      ]
     },
     "execution_count": 8,
     "metadata": {},
     "output_type": "execute_result"
    },
    {
     "data": {
      "image/png": "[encoded data removed]",
      "text/plain": [
       "<Figure size 432x288 with 1 Axes>"
      ]
     },
     "metadata": {},
     "output_type": "display_data"
    }
   ],
   "source": [
    "imshow(result, cmap=\"gray\")"
   ]
  },
  {
   "cell_type": "code",
   "execution_count": 9,
   "metadata": {},
   "outputs": [],
   "source": [
    "# Algorithm can be seen here: https://rosettacode.org/wiki/Zhang-Suen_thinning_algorithm\n",
    "# |P9|P2|P3| \n",
    "# |P8|P1|P4| \n",
    "# |P7|P6|P5| \n",
    "\n",
    "class ImageThinner:\n",
    "    \n",
    "    def __init__(self):\n",
    "        self.X_TRANSLATION = [0, 1, 1, 1, 0, -1, -1, -1]\n",
    "        self.Y_TRANSLATION = [-1, -1, 0, 1, 1, 1, 0, -1]\n",
    "\n",
    "\n",
    "    def neighbors(self, image, x, y):\n",
    "        \"\"\"\n",
    "        Param: image is represented in array\n",
    "        Return neighbors of a pixel \n",
    "        \"\"\"\n",
    "        result = []\n",
    "        for i in range(len(self.X_TRANSLATION)):\n",
    "            result.append(image[y + self.Y_TRANSLATION[i]][x + self.X_TRANSLATION[i]])\n",
    "        return result\n",
    "\n",
    "    def transitions(self, neighbors):\n",
    "        \"\"\"\n",
    "        The number of transitions from white to black in a sequence of\n",
    "        P2, P3, P4, P5, P6, P7, P8, P9, P2\n",
    "        \"\"\"\n",
    "        neighbors_check = neighbors + neighbors[0:1]\n",
    "        result = 0\n",
    "            \n",
    "        for i in range(len(neighbors_check) - 1):\n",
    "            if neighbors_check[i] > THRESHOLD and neighbors_check[i + 1] <= THRESHOLD:\n",
    "                result += 1\n",
    "        \n",
    "        return result\n",
    "\n",
    "    def count_black_pixel(self, neighbors):\n",
    "        \"\"\"\n",
    "        The number of black pixel neighbors\n",
    "        \"\"\"\n",
    "        result = 0\n",
    "        for i in neighbors:\n",
    "            if i <= THRESHOLD:\n",
    "                result += 1\n",
    "        \n",
    "        return result\n",
    "\n",
    "    def thin_image(self, image):\n",
    "        \"\"\"\n",
    "        Thin the image\n",
    "        \"\"\"\n",
    "        \n",
    "        thinned_image = image.copy()\n",
    "\n",
    "        list_of_change_1 = list_of_change_2 = 1\n",
    "\n",
    "        while list_of_change_1 or list_of_change_2:\n",
    "            rows, column = thinned_image.shape\n",
    "\n",
    "            # First Condition\n",
    "            list_of_change_1 = []\n",
    "            for y in range(1, rows - 1):\n",
    "                for x in range(1, column - 1):\n",
    "                    P2, P3, P4, P5, P6, P7, P8, P9 = neighbors_list = self.neighbors(thinned_image, x, y)\n",
    "\n",
    "                    \n",
    "                    if (thinned_image[y][x] <= THRESHOLD and\n",
    "                        2 <= self.count_black_pixel(neighbors_list) <= 6 and\n",
    "                        self.transitions(neighbors_list) == 1 and\n",
    "                        (P2 > THRESHOLD or P4 > THRESHOLD or P6 > THRESHOLD) and\n",
    "                        (P4 > THRESHOLD or P6 > THRESHOLD or P8 > THRESHOLD)):\n",
    "                        \n",
    "                        list_of_change_1.append((y, x))\n",
    "\n",
    "            for y, x in list_of_change_1:\n",
    "                thinned_image[y][x] = 255                \n",
    "\n",
    "            # Second Condition\n",
    "            list_of_change_2 = []\n",
    "            for y in range(1, rows - 1):\n",
    "                for x in range(1, column - 1):\n",
    "                    P2, P3, P4, P5, P6, P7, P8, P9 = neighbors_list = self.neighbors(thinned_image, x, y)\n",
    "\n",
    "                    if (thinned_image[y][x] <= THRESHOLD and\n",
    "                        2 <= self.count_black_pixel(neighbors_list) <= 6 and\n",
    "                        self.transitions(neighbors_list) == 1 and\n",
    "                        (P2 > THRESHOLD or P4 > THRESHOLD or P8 > THRESHOLD) and\n",
    "                        (P2 > THRESHOLD or P6 > THRESHOLD or P8 > THRESHOLD)):\n",
    "                        \n",
    "                        list_of_change_2.append((y, x))\n",
    "\n",
    "            for y, x in list_of_change_2:\n",
    "                thinned_image[y][x] = 255\n",
    "\n",
    "\n",
    "        return thinned_image"
   ]
  },
  {
   "cell_type": "code",
   "execution_count": 10,
   "metadata": {},
   "outputs": [],
   "source": [
    "image_thinner = ImageThinner()"
   ]
  },
  {
   "cell_type": "code",
   "execution_count": 11,
   "metadata": {},
   "outputs": [],
   "source": [
    "data = convert_image2bw_10(array(Image.open('datasets/digit/1.png').convert('L')))"
   ]
  },
  {
   "cell_type": "code",
   "execution_count": 12,
   "metadata": {},
   "outputs": [
    {
     "data": {
      "text/plain": [
       "array([[255, 255, 255, ..., 255, 255, 255],\n",
       "       [255, 255, 255, ..., 255, 255, 255],\n",
       "       [255, 255, 255, ..., 255, 255, 255],\n",
       "       ...,\n",
       "       [255, 255, 255, ..., 255, 255, 255],\n",
       "       [255, 255, 255, ..., 255, 255, 255],\n",
       "       [255, 255, 255, ..., 255, 255, 255]], dtype=uint8)"
      ]
     },
     "execution_count": 12,
     "metadata": {},
     "output_type": "execute_result"
    }
   ],
   "source": [
    "result = image_thinner.thin_image(convert_image2bw(array(Image.open('datasets/digit/2.png').convert('L'))))\n",
    "result"
   ]
  },
  {
   "cell_type": "code",
   "execution_count": 13,
   "metadata": {
    "scrolled": true
   },
   "outputs": [
    {
     "data": {
      "image/png": "[encoded data removed]",
      "text/plain": [
       "<PIL.Image.Image image mode=L size=70x114 at 0x7F1EC9174668>"
      ]
     },
     "execution_count": 13,
     "metadata": {},
     "output_type": "execute_result"
    }
   ],
   "source": [
    "Image.fromarray(result)"
   ]
  },
  {
   "cell_type": "code",
   "execution_count": 14,
   "metadata": {},
   "outputs": [
    {
     "data": {
      "text/plain": [
       "(114, 70)"
      ]
     },
     "execution_count": 14,
     "metadata": {},
     "output_type": "execute_result"
    }
   ],
   "source": [
    "result.shape"
   ]
  },
  {
   "cell_type": "code",
   "execution_count": 15,
   "metadata": {
    "scrolled": true
   },
   "outputs": [
    {
     "data": {
      "text/plain": [
       "array([[255, 255, 255, ..., 255, 255, 255],\n",
       "       [255, 255, 255, ..., 255, 255, 255],\n",
       "       [255, 255, 255, ..., 255, 255, 255],\n",
       "       ...,\n",
       "       [255, 255, 255, ..., 255, 255, 255],\n",
       "       [255, 255, 255, ..., 255, 255, 255],\n",
       "       [255, 255, 255, ..., 255, 255, 255]], dtype=uint8)"
      ]
     },
     "execution_count": 15,
     "metadata": {},
     "output_type": "execute_result"
    }
   ],
   "source": [
    "result2 = result.copy()\n",
    "result2"
   ]
  },
  {
   "cell_type": "code",
   "execution_count": 16,
   "metadata": {},
   "outputs": [
    {
     "data": {
      "text/plain": [
       "(114, 70)"
      ]
     },
     "execution_count": 16,
     "metadata": {},
     "output_type": "execute_result"
    }
   ],
   "source": [
    "result2.shape\n"
   ]
  },
  {
   "cell_type": "code",
   "execution_count": 17,
   "metadata": {},
   "outputs": [
    {
     "name": "stdout",
     "output_type": "stream",
     "text": [
      "[(0, 2), (0, 3), (1, 3), (2, 3), (2, 2), (2, 1), (1, 1), (0, 1)]\n"
     ]
    }
   ],
   "source": [
    "X_TRANSLATION = [0, 1, 1, 1, 0, -1, -1, -1]\n",
    "Y_TRANSLATION = [-1, -1, 0, 1, 1, 1, 0, -1]\n",
    "\n",
    "def neighbors(y, x):\n",
    "    \"\"\"\n",
    "    Param: image is represented in array\n",
    "    Return neighbors of a pixel \n",
    "    \"\"\"\n",
    "    result = []\n",
    "    for i in range(len(X_TRANSLATION)):\n",
    "        result.append((y + Y_TRANSLATION[i],x + X_TRANSLATION[i]))\n",
    "    return result\n",
    "print(neighbors(1, 2))"
   ]
  },
  {
   "cell_type": "code",
   "execution_count": 18,
   "metadata": {},
   "outputs": [],
   "source": [
    "def find_endpoint(result2):\n",
    "    endpoint = []\n",
    "    (rows, cols) = result2.shape\n",
    "    for i in range(1, rows - 1):\n",
    "        for j in range(1, cols - 1):\n",
    "            if result2[i][j] == 0:\n",
    "\n",
    "                neighbor_point = neighbors(i, j)\n",
    "\n",
    "                counter = 0\n",
    "                for point in neighbor_point:\n",
    "                    if result2[point[0]][point[1]] == 0:\n",
    "                        counter += 1\n",
    "\n",
    "                if counter == 1:\n",
    "                    endpoint.append((i, j))\n",
    "    return endpoint\n",
    "endpoint = find_endpoint(result2)"
   ]
  },
  {
   "cell_type": "code",
   "execution_count": 19,
   "metadata": {},
   "outputs": [],
   "source": [
    "x = []\n",
    "y = []\n",
    "for i,j in endpoint:\n",
    "    x.append(j)\n",
    "    y.append(i)"
   ]
  },
  {
   "cell_type": "code",
   "execution_count": 20,
   "metadata": {},
   "outputs": [],
   "source": [
    "def find_intersection(result2):\n",
    "    intersection = []\n",
    "    (rows, cols) = result2.shape\n",
    "    for i in range(1, rows - 1):\n",
    "        for j in range(1, cols - 1):\n",
    "            if result2[i][j] == 0:\n",
    "\n",
    "                neighbor_point = neighbors(i, j)\n",
    "\n",
    "                counter = 0\n",
    "                for point in neighbor_point:\n",
    "                    if result2[point[0]][point[1]] == 0:\n",
    "                        counter += 1\n",
    "\n",
    "                if counter > 2:\n",
    "                    intersection.append((i, j))\n",
    "    return intersection\n",
    "intersection = find_intersection(result2)"
   ]
  },
  {
   "cell_type": "code",
   "execution_count": 21,
   "metadata": {},
   "outputs": [],
   "source": [
    "xi = []\n",
    "yi = []\n",
    "for i,j in intersection:\n",
    "    xi.append(j)\n",
    "    yi.append(i)"
   ]
  },
  {
   "cell_type": "code",
   "execution_count": 22,
   "metadata": {},
   "outputs": [
    {
     "data": {
      "image/png": "[encoded data removed]",
      "text/plain": [
       "<Figure size 432x288 with 1 Axes>"
      ]
     },
     "metadata": {},
     "output_type": "display_data"
    }
   ],
   "source": [
    "imshow(result2)\n",
    "\n",
    "plot(x,y,'r*')\n",
    "plot(xi, yi, 'g*')\n",
    "show()"
   ]
  },
  {
   "cell_type": "code",
   "execution_count": 23,
   "metadata": {},
   "outputs": [
    {
     "data": {
      "text/plain": [
       "<matplotlib.image.AxesImage at 0x7f1ec91199e8>"
      ]
     },
     "execution_count": 23,
     "metadata": {},
     "output_type": "execute_result"
    },
    {
     "data": {
      "image/png": "[encoded data removed]",
      "text/plain": [
       "<Figure size 432x288 with 1 Axes>"
      ]
     },
     "metadata": {},
     "output_type": "display_data"
    }
   ],
   "source": [
    "imshow(result2)"
   ]
  },
  {
   "cell_type": "code",
   "execution_count": 24,
   "metadata": {},
   "outputs": [],
   "source": [
    "def prune_image(result2):\n",
    "    distance_threshold = 20\n",
    "    marker = True\n",
    "    counter = 0\n",
    "    endpoint = find_endpoint(result2)\n",
    "    intersection = find_intersection(result2)    \n",
    "    while (marker):\n",
    "        figure(counter + 1)\n",
    "        counter += 1\n",
    "        min_distance = 255\n",
    "        for i, j in intersection:\n",
    "            for y, x in endpoint:\n",
    "                distance = abs(j - x) + abs(i - y)\n",
    "                if min_distance > distance:\n",
    "                    min_distance = distance\n",
    "                if distance <= distance_threshold:\n",
    "                    result2[y][x] = 255\n",
    "        endpoint = find_endpoint(result2)\n",
    "        intersection = find_intersection(result2)\n",
    "        if min_distance > distance_threshold or counter > 4:\n",
    "            marker=False\n",
    "\n",
    "        imshow(result2)\n",
    "\n",
    "        xi = []\n",
    "        yi = []\n",
    "        for i,j in intersection:\n",
    "            xi.append(j)\n",
    "            yi.append(i)\n",
    "\n",
    "        x = []\n",
    "        y = []\n",
    "        for i,j in endpoint:\n",
    "            x.append(j)\n",
    "            y.append(i)\n",
    "\n",
    "        plot(x,y,'r*')\n",
    "        plot(xi, yi, 'g*')\n",
    "        show()\n",
    "    return result2"
   ]
  },
  {
   "cell_type": "code",
   "execution_count": 25,
   "metadata": {},
   "outputs": [
    {
     "data": {
      "text/plain": [
       "<matplotlib.image.AxesImage at 0x7f1ec90755f8>"
      ]
     },
     "execution_count": 25,
     "metadata": {},
     "output_type": "execute_result"
    },
    {
     "data": {
      "image/png": "[encoded data removed]",
      "text/plain": [
       "<Figure size 432x288 with 1 Axes>"
      ]
     },
     "metadata": {},
     "output_type": "display_data"
    }
   ],
   "source": [
    "imshow(result2)"
   ]
  },
  {
   "cell_type": "code",
   "execution_count": 26,
   "metadata": {},
   "outputs": [
    {
     "data": {
      "image/png": "[encoded data removed]",
      "text/plain": [
       "<Figure size 432x288 with 1 Axes>"
      ]
     },
     "metadata": {},
     "output_type": "display_data"
    },
    {
     "data": {
      "image/png": "[encoded data removed]",
      "text/plain": [
       "<Figure size 432x288 with 1 Axes>"
      ]
     },
     "metadata": {},
     "output_type": "display_data"
    },
    {
     "data": {
      "image/png": "[encoded data removed]",
      "text/plain": [
       "<Figure size 432x288 with 1 Axes>"
      ]
     },
     "metadata": {},
     "output_type": "display_data"
    },
    {
     "data": {
      "image/png": "[encoded data removed]",
      "text/plain": [
       "<Figure size 432x288 with 1 Axes>"
      ]
     },
     "metadata": {},
     "output_type": "display_data"
    },
    {
     "data": {
      "image/png": "[encoded data removed]",
      "text/plain": [
       "<Figure size 432x288 with 1 Axes>"
      ]
     },
     "metadata": {},
     "output_type": "display_data"
    },
    {
     "data": {
      "text/plain": [
       "<matplotlib.image.AxesImage at 0x7f1ec8e7c128>"
      ]
     },
     "execution_count": 26,
     "metadata": {},
     "output_type": "execute_result"
    },
    {
     "data": {
      "image/png": "[encoded data removed]",
      "text/plain": [
       "<Figure size 432x288 with 1 Axes>"
      ]
     },
     "metadata": {},
     "output_type": "display_data"
    }
   ],
   "source": [
    "prune_result2 = prune_image(result2)\n",
    "imshow(prune_result2)"
   ]
  },
  {
   "cell_type": "code",
   "execution_count": 27,
   "metadata": {},
   "outputs": [],
   "source": [
    "def convert2zero_one(result2):\n",
    "    for index1, rows in enumerate(result2):\n",
    "        for index2, value in enumerate(rows):\n",
    "            if result2[index1][index2] == 0:\n",
    "                result2[index1, index2] = 1\n",
    "            else:\n",
    "                result2[index1, index2] = 0\n",
    "    return result2\n",
    "result2 = convert2zero_one(result2)"
   ]
  },
  {
   "cell_type": "code",
   "execution_count": 28,
   "metadata": {},
   "outputs": [],
   "source": [
    "from __future__ import division\n",
    "\n",
    "# Author: Jean KOSSAIFI <jean.kossaifi@gmail.com>\n",
    "\n",
    "import numpy as np\n",
    "from numpy import arctan2, fliplr, flipud\n",
    "\n",
    "\n",
    "def gradient(image, same_size=False):\n",
    "    \"\"\" Computes the Gradients of the image separated pixel difference\n",
    "    \n",
    "    Gradient of X is computed using the filter \n",
    "        [-1, 0, 1]\n",
    "    Gradient of X is computed using the filter \n",
    "        [[1,\n",
    "          0,\n",
    "          -1]]\n",
    "    Parameters\n",
    "    ----------\n",
    "    image: image of shape (imy, imx)\n",
    "    same_size: boolean, optional, default is True\n",
    "        If True, boundaries are duplicated so that the gradients\n",
    "        has the same size as the original image.\n",
    "        Otherwise, the gradients will have shape (imy-2, imx-2)\n",
    "        \n",
    "    Returns\n",
    "    -------\n",
    "    (Gradient X, Gradient Y), two numpy array with the same shape as image\n",
    "        (if same_size=True)\n",
    "    \"\"\"\n",
    "    sy, sx = image.shape\n",
    "    if same_size:\n",
    "        gx = np.zeros(image.shape)\n",
    "        gx[:, 1:-1] = -image[:, :-2] + image[:, 2:]\n",
    "        gx[:, 0] = -image[:, 0] + image[:, 1]\n",
    "        gx[:, -1] = -image[:, -2] + image[:, -1]\n",
    "    \n",
    "        gy = np.zeros(image.shape)\n",
    "        gy[1:-1, :] = image[:-2, :] - image[2:, :]\n",
    "        gy[0, :] = image[0, :] - image[1, :]\n",
    "        gy[-1, :] = image[-2, :] - image[-1, :]\n",
    "    \n",
    "    else:\n",
    "        gx = np.zeros((sy-2, sx-2))\n",
    "        gx[:, :] = -image[1:-1, :-2] + image[1:-1, 2:]\n",
    "\n",
    "        gy = np.zeros((sy-2, sx-2))\n",
    "        gy[:, :] = image[:-2, 1:-1] - image[2:, 1:-1]\n",
    "    \n",
    "    return gx, gy\n",
    "\n",
    "\n",
    "def magnitude_orientation(gx, gy):\n",
    "    \"\"\" Computes the magnitude and orientation matrices from the gradients gx gy\n",
    "    Parameters\n",
    "    ----------\n",
    "    gx: gradient following the x axis of the image\n",
    "    gy: gradient following the y axis of the image\n",
    "    \n",
    "    Returns \n",
    "    -------\n",
    "    (magnitude, orientation)\n",
    "    \n",
    "    Warning\n",
    "    -------\n",
    "    The orientation is in degree, NOT radian!!\n",
    "    \"\"\"\n",
    "        \n",
    "    magnitude = np.sqrt(gx**2 + gy**2)\n",
    "    orientation = (arctan2(gy, gx) * 180 / np.pi) % 360\n",
    "            \n",
    "    return magnitude, orientation\n",
    "\n",
    "\n",
    "def compute_coefs(csx, csy, dx, dy, n_cells_x, n_cells_y):\n",
    "    \"\"\"\n",
    "    Computes the coefficients for the bilinear (spatial) interpolation\n",
    "    \n",
    "    Parameters\n",
    "    ----------\n",
    "    csx: int\n",
    "        number of columns of the cells\n",
    "    csy: int\n",
    "        number of raws dimension of the cells\n",
    "    sx: int\n",
    "        number of colums of the image (x axis)\n",
    "    sy: int\n",
    "        number of raws of the image (y axis)\n",
    "    n_cells_x: int\n",
    "        number of cells in the x axis\n",
    "    n_cells_y: int\n",
    "        number of cells in the y axis\n",
    "    \n",
    "    Notes\n",
    "    -----\n",
    "    We consider an image: image[y, x] (NOT image[x, y]!!!)\n",
    "    \n",
    "    /!\\ csx and csy must be even number\n",
    "    \n",
    "    Using the coefficients\n",
    "    ----------------------\n",
    "    The coefficient correspond to the interpolation in direction of the upper left corner of the image.\n",
    "    In other words, if you interpolate img, and res is the result of your interpolation, you should do\n",
    "    \n",
    "    res = zeros(n_cells_y*pixels_per_cell, n_cells_x*pixels_per_cell)\n",
    "        with (csx, csy) the number of pixels per cell\n",
    "         and dx, dy = csx//2, csy//2\n",
    "    res[:-dx, :-dy] += img[dx:, dy:]*coefs\n",
    "    \n",
    "    then you rotate the coefs and do the same thing for every part of the image\n",
    "    \"\"\"\n",
    "    if csx != csy:\n",
    "        raise NotImplementedError(\"For now compute_coefs is only implemented for squared cells (csx == csy)\")\n",
    "        \n",
    "        ################################\n",
    "        #####     /!\\ TODO  /!|    #####\n",
    "        ################################\n",
    "\n",
    "    else: # Squared cells\n",
    "        # Note: in this case, dx = dy, we differentiate them only to make the code clearer\n",
    "        \n",
    "        # We want a squared coefficients matrix so that it can be rotated to interpolate in every direction\n",
    "        n_cells = max(n_cells_x, n_cells_y)\n",
    "        \n",
    "        # Every cell of this matrix corresponds to (x - x_1)/dx \n",
    "        x = (np.arange(dx)+0.5)/csx\n",
    "        \n",
    "        # Every cell of this matrix corresponds to (y - y_1)/dy\n",
    "        y = (np.arange(dy)+0.5)/csy\n",
    "        \n",
    "        y = y[np.newaxis, :]\n",
    "        x = x[:, np.newaxis]\n",
    "\n",
    "        # CENTRAL COEFFICIENT\n",
    "        ccoefs = np.zeros((csy, csx))\n",
    "\n",
    "        ccoefs[:dy, :dx] = (1 - x)*(1 - y)\n",
    "        ccoefs[:dy, -dx:] = fliplr(y)*(1 - x)\n",
    "        ccoefs[-dy:, :dx] = (1 - y)*flipud(x)\n",
    "        ccoefs[-dy:, -dx:] = fliplr(y)*flipud(x)\n",
    "\n",
    "        coefs = np.zeros((csx*n_cells - dx, csy*n_cells - dy))\n",
    "        coefs[:-dy, :-dx] = np.tile(ccoefs, (n_cells - 1, n_cells - 1))\n",
    "\n",
    "        # REST OF THE BORDER\n",
    "        coefs[:-dy, -dx:] = np.tile(np.concatenate(((1 - x), np.flipud(x))), (n_cells - 1, dy))\n",
    "        coefs[-dy:, :-dx] = np.tile(np.concatenate(((1 - y), np.fliplr(y)), axis=1), (dx, n_cells - 1))\n",
    "        coefs[-dy:, -dx:] = 1\n",
    "\n",
    "        return coefs\n",
    "\n",
    "\n",
    "def interpolate_orientation(orientation, sx, sy, nbins, signed_orientation):\n",
    "    \"\"\" interpolates linearly the orientations to their corresponding bins\n",
    "    Parameters\n",
    "    ----------\n",
    "    sx: int\n",
    "        number of columns of the image (x axis)\n",
    "    sy: int\n",
    "        number of raws of the image (y axis)\n",
    "    nbins : int, optional, default is 9\n",
    "        Number of orientation bins.\n",
    "    signed_orientation: bool, default is True\n",
    "        if True, sign information of the orientation is preserved,\n",
    "            ie orientation angles are between 0 and 360 degree.\n",
    "        if False, the angles are between 0 and 180 degree.\n",
    "    Returns\n",
    "    -------\n",
    "    pre-histogram: array of shape (sx, sy, nbins)\n",
    "            contains the pre histogram of orientation built using linear interpolation\n",
    "            to interpolate the orientations to their bins\n",
    "    \"\"\"\n",
    "    \n",
    "    if signed_orientation:\n",
    "        max_angle = 360\n",
    "    else:\n",
    "        max_angle = 180\n",
    "    \n",
    "    b_step = max_angle/nbins\n",
    "    b0 = (orientation % max_angle) // b_step\n",
    "    b0[np.where(b0>=nbins)]=0\n",
    "    b1 = b0 + 1\n",
    "    b1[np.where(b1>=nbins)]=0\n",
    "    b = np.abs(orientation % b_step) / b_step\n",
    "    \n",
    "    #linear interpolation between the bins\n",
    "    # Coefficients corresponding to the bin interpolation\n",
    "    # We go from an image to a higher dimension representation of size (sizex, sizey, nbins)\n",
    "    temp_coefs = np.zeros((sy, sx, nbins))\n",
    "    for i in range(nbins):\n",
    "        temp_coefs[:, :, i] += np.where(b0==i, (1 - b), 0)\n",
    "        temp_coefs[:, :, i] += np.where(b1==i, b, 0)\n",
    "    \n",
    "    return temp_coefs\n",
    "\n",
    "\n",
    "def per_pixel_hog(image, dy=2, dx=2, signed_orientation=False, nbins=9, flatten=False, normalise=True):\n",
    "    \"\"\" builds a histogram of orientation for a cell centered around each pixel of the image\n",
    "    \n",
    "    Parameters\n",
    "    ---------\n",
    "    image: numpy array of shape (sizey, sizex)\n",
    "    dx   : the cell around each pixel in the x axis will have size 2*dx+1\n",
    "    dy   : the cell around each pixel in the y axis will have size 2*dy+1\n",
    "    signed_orientation: bool, default is True\n",
    "        if True, sign information of the orientation is preserved,\n",
    "            ie orientation angles are between 0 and 360 degree.\n",
    "        if False, the angles are between 0 and 180 degree.\n",
    "    nbins : int, optional, default is 9\n",
    "        Number of orientation bins.\n",
    "        \n",
    "    Returns\n",
    "    -------\n",
    "    if visualise if True: (histogram of oriented gradient, visualisation image)\n",
    "    \n",
    "    histogram of oriented gradient:\n",
    "        numpy array of shape (n_cells_y, n_cells_x, nbins), flattened if flatten is True\n",
    "    \"\"\"\n",
    "    gx, gy = gradient(image, same_size=True)\n",
    "    magnitude, orientation = magnitude_orientation(gx, gy)\n",
    "    sy, sx = image.shape\n",
    "    orientations_image = interpolate_orientation(orientation, sx, sy, nbins, signed_orientation)\n",
    "    for j in range(1, dy):\n",
    "        for i in range(1, dx):\n",
    "            orientations_image[:-j, :-i, :] += orientations_image[j:, i:, :]\n",
    "    \n",
    "    if normalise:\n",
    "        normalised_blocks = normalise_histogram(orientations_image, 1, 1, 1, 1, nbins)\n",
    "    else:\n",
    "        normalised_blocks = orientations_image\n",
    "    \n",
    "    if flatten:\n",
    "        normalised_blocks = normalised_blocks.flatten()\n",
    "\n",
    "    return normalised_blocks\n",
    "\n",
    "\n",
    "def interpolate(magnitude, orientation, csx, csy, sx, sy, n_cells_x, n_cells_y, signed_orientation=False, nbins=9):\n",
    "    \"\"\" Returns a matrix of size (cell_size_x, cell_size_y, nbins) corresponding\n",
    "         to the trilinear interpolation of the pixels magnitude and orientation\n",
    "    Parameters\n",
    "    ----------\n",
    "    csx: int\n",
    "        number of columns of the cells\n",
    "    csy: int\n",
    "        number of raws dimension of the cells\n",
    "    sx: int\n",
    "        number of colums of the image (x axis)\n",
    "    sy: int\n",
    "        number of raws of the image (y axis)\n",
    "    n_cells_x: int\n",
    "        number of cells in the x axis\n",
    "    n_cells_y: int\n",
    "        number of cells in the y axis\n",
    "    signed_orientation: bool, default is True\n",
    "        if True, sign information of the orientation is preserved,\n",
    "            ie orientation angles are between 0 and 360 degree.\n",
    "        if False, the angles are between 0 and 180 degree.\n",
    "    nbins : int, optional, default is 9\n",
    "        Number of orientation bins.\n",
    "    Returns\n",
    "    -------\n",
    "    orientation_histogram: array of shape (n_cells_x, n_cells_y, nbins)\n",
    "            contains the histogram of orientation built using tri-linear interpolation\n",
    "    \"\"\"\n",
    "    \n",
    "    dx = csx//2\n",
    "    dy = csy//2\n",
    "    \n",
    "    temp_coefs = interpolate_orientation(orientation, sx, sy, nbins, signed_orientation)\n",
    "\n",
    "\n",
    "    # Coefficients of the spatial interpolation in every direction\n",
    "    coefs = compute_coefs(csx, csy, dx, dy, n_cells_x, n_cells_y)\n",
    "    \n",
    "    temp = np.zeros((sy, sx, nbins))\n",
    "    # hist(y0, x0)\n",
    "    temp[:-dy, :-dx, :] += temp_coefs[dy:, dx:, :]*\\\n",
    "        (magnitude[dy:, dx:]*coefs[-(n_cells_y*csy - dy):, -(n_cells_x*csx - dx):])[:, :, np.newaxis]\n",
    "    \n",
    "    # hist(y1, x0)\n",
    "    coefs = np.rot90(coefs)\n",
    "    temp[dy:, :-dx, :] += temp_coefs[:-dy, dx:, :]*\\\n",
    "        (magnitude[:-dy, dx:]*coefs[:(n_cells_y*csy - dy), -(n_cells_x*csx - dx):])[:, :, np.newaxis]\n",
    "    \n",
    "    # hist(y1, x1)\n",
    "    coefs = np.rot90(coefs)\n",
    "    temp[dy:, dx:, :] += temp_coefs[:-dy, :-dx, :]*\\\n",
    "        (magnitude[:-dy, :-dx]*coefs[:(n_cells_y*csy - dy), :(n_cells_x*csx - dx)])[:, :, np.newaxis]\n",
    "    \n",
    "    # hist(y0, x1)\n",
    "    coefs = np.rot90(coefs)\n",
    "    temp[:-dy, dx:, :] += temp_coefs[dy:, :-dx, :]*\\\n",
    "        (magnitude[dy:, :-dx]*coefs[-(n_cells_y*csy - dy):, :(n_cells_x*csx - dx)])[:, :, np.newaxis]\n",
    "    \n",
    "    # Compute the histogram: sum over the cells\n",
    "    orientation_histogram = temp.reshape((n_cells_y, csy, n_cells_x, csx, nbins)).sum(axis=3).sum(axis=1)\n",
    "    \n",
    "    return orientation_histogram\n",
    "\n",
    "\n",
    "def draw_histogram(hist, csx, csy, signed_orientation=False):\n",
    "    \"\"\" simple function to draw an orientation histogram\n",
    "        with arrows\n",
    "    \"\"\"\n",
    "    import matplotlib.pyplot as plt\n",
    "    \n",
    "    if signed_orientation:\n",
    "        max_angle = 2*np.pi\n",
    "    else:\n",
    "        max_angle = np.pi\n",
    "    \n",
    "    n_cells_y, n_cells_x, nbins = hist.shape\n",
    "    sx, sy = n_cells_x*csx, n_cells_y*csy\n",
    "    plt.close()\n",
    "    plt.figure()#figsize=(sx/2, sy/2))#, dpi=1)\n",
    "    plt.xlim(0, sx)\n",
    "    plt.ylim(sy, 0)\n",
    "    center = csx//2, csy//2\n",
    "    b_step = max_angle / nbins\n",
    "        \n",
    "    for i in range(n_cells_y):\n",
    "        for j in range(n_cells_x):\n",
    "            for k in range(nbins):\n",
    "                if hist[i, j, k] != 0:\n",
    "                    width = 1*hist[i, j, k]\n",
    "                    plt.arrow((center[0] + j*csx) - np.cos(b_step*k)*(center[0] - 1),\n",
    "                              (center[1] + i*csy) + np.sin(b_step*k)*(center[1] - 1), \n",
    "                          2*np.cos(b_step*k)*(center[0] - 1), -2*np.sin(b_step*k)*(center[1] - 1),\n",
    "                          width=width, color=str(width), #'black',\n",
    "                          head_width=2.2*width, head_length=2.2*width,\n",
    "                          length_includes_head=True)\n",
    "                    \n",
    "    plt.show()\n",
    "\n",
    "\n",
    "def visualise_histogram(hist, csx, csy, signed_orientation=False):\n",
    "    \"\"\" Create an image visualisation of the histogram of oriented gradient\n",
    "    \n",
    "    Parameters\n",
    "    ----------\n",
    "    hist: numpy array of shape (n_cells_y, n_cells_x, nbins)\n",
    "        histogram of oriented gradient\n",
    "    csx: int\n",
    "        number of columns of the cells\n",
    "    csy: int\n",
    "        number of raws dimension of the cells\n",
    "    signed_orientation: bool, default is True\n",
    "        if True, sign information of the orientation is preserved,\n",
    "            ie orientation angles are between 0 and 360 degree.\n",
    "        if False, the angles are between 0 and 180 degree.\n",
    "    \n",
    "    Return\n",
    "    ------\n",
    "    Image of shape (hist.shape[0]*csy, hist.shape[1]*csx)\n",
    "    \"\"\"\n",
    "    from skimage import draw\n",
    "    \n",
    "    if signed_orientation:\n",
    "        max_angle = 2*np.pi\n",
    "    else:\n",
    "        max_angle = np.pi\n",
    "    \n",
    "    n_cells_y, n_cells_x, nbins = hist.shape\n",
    "    sx, sy = n_cells_x*csx, n_cells_y*csy\n",
    "    center = csx//2, csy//2\n",
    "    b_step = max_angle / nbins\n",
    "\n",
    "    radius = min(csx, csy) // 2 - 1\n",
    "    hog_image = np.zeros((sy, sx), dtype=float)\n",
    "    for x in range(n_cells_x):\n",
    "        for y in range(n_cells_y):\n",
    "            for o in range(nbins):\n",
    "                centre = tuple([y * csy + csy // 2, x * csx + csx // 2])\n",
    "                dx = radius * np.cos(o*nbins)\n",
    "                dy = radius * np.sin(o*nbins)\n",
    "                rr, cc = draw.line(int(centre[0] - dy),\n",
    "                                   int(centre[1] - dx),\n",
    "                                   int(centre[0] + dy),\n",
    "                                   int(centre[1] + dx))\n",
    "                hog_image[rr, cc] += hist[y, x, o]\n",
    "    return hog_image\n",
    "\n",
    "\n",
    "def normalise_histogram(orientation_histogram, bx, by, n_cells_x, n_cells_y, nbins):\n",
    "    \"\"\" normalises a histogram by blocks\n",
    "    \n",
    "    Parameters\n",
    "    ----------\n",
    "    bx: int\n",
    "        number of blocks on the x axis\n",
    "    by: int\n",
    "        number of blocks on the y axis\n",
    "    n_cells_x: int\n",
    "        number of cells in the x axis\n",
    "    n_cells_y: int\n",
    "        number of cells in the y axis\n",
    "    nbins : int, optional, default is 9\n",
    "        Number of orientation bins.\n",
    "     \n",
    "    The normalisation is done according to Dalal's original thesis, using L2-Hys.\n",
    "    In other words the histogram is first normalised block-wise using l2 norm, before clipping it by\n",
    "        limiting the values between 0 and 0.02 and finally normalising again with l2 norm\n",
    "    \"\"\"\n",
    "    eps = 1e-7\n",
    "    \n",
    "    if bx==1 and by==1: #faster version\n",
    "        normalised_blocks = np.clip(\n",
    "          orientation_histogram / np.sqrt(orientation_histogram.sum(axis=-1)**2 + eps)[:, :, np.newaxis], 0, 0.2)\n",
    "        normalised_blocks /= np.sqrt(normalised_blocks.sum(axis=-1)**2 + eps)[:, :, np.newaxis]\n",
    "        \n",
    "    else:\n",
    "        n_blocksx = (n_cells_x - bx) + 1\n",
    "        n_blocksy = (n_cells_y - by) + 1\n",
    "        normalised_blocks = np.zeros((n_blocksy, n_blocksx, nbins))\n",
    "\n",
    "        for x in range(n_blocksx):\n",
    "            for y in range(n_blocksy):\n",
    "                block = orientation_histogram[y:y + by, x:x + bx, :]\n",
    "                normalised_blocks[y, x, :] = np.clip(block[0, 0, :] / np.sqrt(block.sum()**2 + eps), 0, 0.2)\n",
    "                normalised_blocks[y, x, :] /= np.sqrt(normalised_blocks[y, x, :].sum()**2 + eps)\n",
    "\n",
    "    return normalised_blocks\n",
    "\n",
    "\n",
    "def build_histogram(magnitude, orientation, cell_size=(8, 8), signed_orientation=False,\n",
    "         nbins=9, cells_per_block=(1, 1), visualise=False, flatten=False, normalise=True):\n",
    "    \"\"\" builds a histogram of orientation using the provided magnitude and orientation matrices\n",
    "    \n",
    "    Parameters\n",
    "    ---------\n",
    "    magnitude: np-array of size (sy, sx)\n",
    "        matrix of magnitude\n",
    "    orientation: np-array of size (sy, sx)\n",
    "        matrix of orientations\n",
    "    csx: int\n",
    "        number of columns of the cells \n",
    "        MUST BE EVEN\n",
    "    csy: int\n",
    "        number of raws dimension of the cells\n",
    "        MUST BE EVEN\n",
    "    sx: int\n",
    "        number of colums of the image (x axis)\n",
    "    sy: int\n",
    "        number of raws of the image (y axis)\n",
    "    n_cells_x: int\n",
    "        number of cells in the x axis\n",
    "    n_cells_y: int\n",
    "        number of cells in the y axis\n",
    "    signed_orientation: bool, default is True\n",
    "        if True, sign information of the orientation is preserved,\n",
    "            ie orientation angles are between 0 and 360 degree.\n",
    "        if False, the angles are between 0 and 180 degree.\n",
    "    nbins : int, optional, default is 9\n",
    "        Number of orientation bins.\n",
    "        \n",
    "    Returns\n",
    "    -------\n",
    "    if visualise if True: (histogram of oriented gradient, visualisation image)\n",
    "    \n",
    "    histogram of oriented gradient:\n",
    "        numpy array of shape (n_cells_y, n_cells_x, nbins), flattened if flatten is True\n",
    "    visualisation image:\n",
    "        Image of shape (hist.shape[0]*csy, hist.shape[1]*csx)\n",
    "    \"\"\"\n",
    "    sy, sx = magnitude.shape\n",
    "    csy, csx = cell_size\n",
    "    \n",
    "    # checking that the cell size are even\n",
    "    if csx % 2 != 0:\n",
    "        csx += 1\n",
    "        print(\"WARNING: the cell_size must be even, incrementing cell_size_x of 1\")\n",
    "    if csy % 2 != 0:\n",
    "        csy += 1\n",
    "        print(\"WARNING: the cell_size must be even, incrementing cell_size_y of 1\")\n",
    "    \n",
    "    # Consider only the right part of the image\n",
    "    # (if the rest doesn't fill a whole cell, just drop it)\n",
    "    sx -= sx % csx\n",
    "    sy -= sy % csy\n",
    "    n_cells_x = sx//csx\n",
    "    n_cells_y = sy//csy\n",
    "    magnitude = magnitude[:sy, :sx]\n",
    "    orientation = orientation[:sy, :sx]\n",
    "    by, bx = cells_per_block\n",
    "    \n",
    "    orientation_histogram = interpolate(magnitude, orientation, csx, csy, sx, sy, n_cells_x, n_cells_y, signed_orientation, nbins)\n",
    "    \n",
    "    if normalise:\n",
    "        normalised_blocks = normalise_histogram(orientation_histogram, bx, by, n_cells_x, n_cells_y, nbins)\n",
    "    else:\n",
    "        normalised_blocks = orientation_histogram\n",
    "    \n",
    "    if flatten:\n",
    "        normalised_blocks = normalised_blocks.flatten()\n",
    "\n",
    "    if visualise:\n",
    "        #draw_histogram(normalised_blocks, csx, csy, signed_orientation)\n",
    "        return normalised_blocks, visualise_histogram(normalised_blocks, csx, csy, signed_orientation)\n",
    "    else:\n",
    "        return normalised_blocks\n",
    "\n",
    "\n",
    "def histogram_from_gradients(gradientx, gradienty, cell_size=(8, 8), cells_per_block=(1, 1), signed_orientation=False,\n",
    "        nbins=9, visualise=False, normalise=True, flatten=False, same_size=False):\n",
    "    \"\"\" builds a histogram of oriented gradient from the provided gradients\n",
    "    Parameters\n",
    "    ----------\n",
    "    gradientx : (M, N) ndarray\n",
    "        Gradient following the x axis\n",
    "    gradienty: (M, N) ndarray\n",
    "        Gradient following the y axis\n",
    "    nbins : int, optional, default is 9\n",
    "        Number of orientation bins.\n",
    "    cell_size : 2 tuple (int, int), optional, default is (8, 8)\n",
    "        Size (in pixels) of a cell.\n",
    "    cells_per_block : 2 tuple (int,int), optional, default is (2, 2)\n",
    "        Number of cells in each block.\n",
    "    visualise : bool, optional, default is False\n",
    "        Also return an image of the HOG.\n",
    "    flatten: bool, optional, default is True\n",
    "    signed_orientation: bool, default is True\n",
    "        if True, sign information of the orientation is preserved,\n",
    "            ie orientation angles are between 0 and 360 degree.\n",
    "        if False, the angles are between 0 and 180 degree.\n",
    "    normalise: bool, optional, default is True\n",
    "        if True, the histogram is normalised block-wise\n",
    "    same_size: bool, optional, default is False\n",
    "        if True, the boundaries are duplicated when computing the gradients of the image\n",
    "        so that these have the same size as the original image\n",
    "    Returns\n",
    "    -------\n",
    "    if visualise if True: (histogram of oriented gradient, visualisation image)\n",
    "    \n",
    "    histogram of oriented gradient:\n",
    "        numpy array of shape (n_cells_y, n_cells_x, nbins), flattened if flatten is True\n",
    "    visualisation image:\n",
    "        Image of shape (hist.shape[0]*csy, hist.shape[1]*csx)\n",
    "    References\n",
    "    ----------\n",
    "    * http://en.wikipedia.org/wiki/Histogram_of_oriented_gradients\n",
    "    * Dalal, N and Triggs, B, Histograms of Oriented Gradients for\n",
    "    Human Detection, IEEE Computer Society Conference on Computer\n",
    "    Vision and Pattern Recognition 2005 San Diego, CA, USA\n",
    "    \"\"\"\n",
    "    magnitude, orientation = magnitude_orientation(gradientx, gradienty)\n",
    "    return build_histogram(magnitude, orientation, cell_size=cell_size,\n",
    "         signed_orientation=signed_orientation, cells_per_block=cells_per_block,\n",
    "         nbins=nbins, visualise=visualise, normalise=normalise, flatten=flatten)\n",
    "\n",
    "\n",
    "def hog(image, cell_size=(4, 4), cells_per_block=(1, 1), signed_orientation=False,\n",
    "        nbins=9, visualise=False, normalise=True, flatten=False, same_size=True):\n",
    "    \"\"\" builds a histogram of oriented gradient (HoG) from the provided image\n",
    "    Compute a Histogram of Oriented Gradients (HOG) by\n",
    "    1. computing the gradient image in x and y and deduce from them the magnitude and orientation\n",
    "        of each pixel\n",
    "    2. computing gradient histograms (vectorised version)\n",
    "    3. normalising across blocks\n",
    "    4. flattening into a feature vector if flatten=True\n",
    "    Parameters\n",
    "    ----------\n",
    "    image : (M, N) ndarray\n",
    "        Input image (greyscale).\n",
    "    nbins : int, optional, default is 9\n",
    "        Number of orientation bins.\n",
    "    cell_size : 2 tuple (int, int), optional, default is (8, 8)\n",
    "        Size (in pixels) of a cell.\n",
    "    cells_per_block : 2 tuple (int,int), optional, default is (2, 2)\n",
    "        Number of cells in each block.\n",
    "    visualise : bool, optional, default is False\n",
    "        Also return an image of the HOG.\n",
    "    flatten: bool, optional, default is True\n",
    "    signed_orientation: bool, default is True\n",
    "        if True, sign information of the orientation is preserved,\n",
    "            ie orientation angles are between 0 and 360 degree.\n",
    "        if False, the angles are between 0 and 180 degree.\n",
    "    normalise: bool, optional, default is True\n",
    "        if True, the histogram is normalised block-wise\n",
    "    same_size: bool, optional, default is True\n",
    "        if True, the boundaries are duplicated when computing the gradients of the image\n",
    "        so that these have the same size as the original image\n",
    "    Returns\n",
    "    -------\n",
    "    if visualise if True: (histogram of oriented gradient, visualisation image)\n",
    "    \n",
    "    histogram of oriented gradient:\n",
    "        numpy array of shape (n_cells_y, n_cells_x, nbins), flattened if flatten is True\n",
    "    visualisation image:\n",
    "        Image of shape (hist.shape[0]*csy, hist.shape[1]*csx)\n",
    "    References\n",
    "    ----------\n",
    "    * http://en.wikipedia.org/wiki/Histogram_of_oriented_gradients\n",
    "    * Dalal, N and Triggs, B, Histograms of Oriented Gradients for\n",
    "    Human Detection, IEEE Computer Society Conference on Computer\n",
    "    Vision and Pattern Recognition 2005 San Diego, CA, USA\n",
    "    \"\"\"\n",
    "    gx, gy = gradient(image, same_size=same_size)\n",
    "    return histogram_from_gradients(gx, gy, cell_size=cell_size,\n",
    "         signed_orientation=signed_orientation, cells_per_block=cells_per_block,\n",
    "         nbins=nbins, visualise=visualise, normalise=normalise, flatten=flatten)"
   ]
  },
  {
   "cell_type": "code",
   "execution_count": 29,
   "metadata": {},
   "outputs": [
    {
     "data": {
      "image/png": "[encoded data removed]",
      "text/plain": [
       "<Figure size 432x288 with 4 Axes>"
      ]
     },
     "metadata": {},
     "output_type": "display_data"
    },
    {
     "data": {
      "image/png": "[encoded data removed]",
      "text/plain": [
       "<Figure size 432x288 with 2 Axes>"
      ]
     },
     "metadata": {},
     "output_type": "display_data"
    },
    {
     "data": {
      "image/png": "[encoded data removed]",
      "text/plain": [
       "<Figure size 432x288 with 1 Axes>"
      ]
     },
     "metadata": {},
     "output_type": "display_data"
    }
   ],
   "source": [
    "def octagon():\n",
    "    return np.array([[0, 0, 0, 0, 0, 0, 0, 0, 0, 0, 0, 0, 0, 0, 0, 0],\n",
    "                     [0, 0, 0, 0, 0, 0, 0, 1, 1, 1, 0, 0, 0, 0, 0, 0],\n",
    "                     [0, 0, 0, 0, 0, 0, 1, 1, 1, 1, 1, 0, 0, 0, 0, 0],\n",
    "                     [0, 0, 0, 0, 0, 1, 1, 1, 1, 1, 1, 1, 0, 0, 0, 0],\n",
    "                     [0, 0, 0, 0, 1, 1, 1, 1, 1, 1, 1, 1, 1, 0, 0, 0],\n",
    "                     [0, 0, 0, 1, 1, 1, 1, 1, 1, 1, 1, 1, 1, 1, 0, 0],\n",
    "                     [0, 0, 1, 1, 1, 1, 1, 1, 1, 1, 1, 1, 1, 1, 1, 0],\n",
    "                     [0, 0, 1, 1, 1, 1, 1, 1, 1, 1, 1, 1, 1, 1, 1, 0],\n",
    "                     [0, 0, 1, 1, 1, 1, 1, 1, 1, 1, 1, 1, 1, 1, 1, 0],\n",
    "                     [0, 0, 1, 1, 1, 1, 1, 1, 1, 1, 1, 1, 1, 1, 1, 0],\n",
    "                     [0, 0, 1, 1, 1, 1, 1, 1, 1, 1, 1, 1, 1, 1, 1, 0],\n",
    "                     [0, 0, 0, 1, 1, 1, 1, 1, 1, 1, 1, 1, 1, 1, 0, 0],\n",
    "                     [0, 0, 0, 0, 1, 1, 1, 1, 1, 1, 1, 1, 1, 0, 0, 0],\n",
    "                     [0, 0, 0, 0, 0, 1, 1, 1, 1, 1, 1, 1, 0, 0, 0, 0],\n",
    "                     [0, 0, 0, 0, 0, 0, 1, 1, 1, 1, 1, 0, 0, 0, 0, 0],\n",
    "                     [0, 0, 0, 0, 0, 0, 0, 1, 1, 1, 0, 0, 0, 0, 0, 0],\n",
    "                     [0, 0, 0, 0, 0, 0, 0, 0, 0, 0, 0, 0, 0, 0, 0, 0]])\n",
    "\n",
    "    \n",
    "img = octagon()\n",
    "gx, gy = gradient(img, same_size=False)\n",
    "mag, ori = magnitude_orientation(gx, gy)\n",
    "\n",
    "# Show gradient and magnitude\n",
    "plt.figure()\n",
    "plt.title('gradients and magnitude')\n",
    "plt.subplot(141)\n",
    "plt.imshow(img, cmap=plt.cm.Greys_r)\n",
    "plt.subplot(142)\n",
    "plt.imshow(gx, cmap=plt.cm.Greys_r)\n",
    "plt.subplot(143)\n",
    "plt.imshow(gy, cmap=plt.cm.Greys_r)\n",
    "plt.subplot(144)\n",
    "plt.imshow(mag, cmap=plt.cm.Greys_r)\n",
    "\n",
    "\n",
    "# Show the orientation deducted from gradient\n",
    "plt.figure()\n",
    "plt.title('orientations')\n",
    "plt.imshow(ori)\n",
    "plt.pcolor(ori)\n",
    "plt.colorbar()\n",
    "\n",
    "\n",
    "# Plot histogram \n",
    "from scipy.ndimage.interpolation import zoom\n",
    "# make the image bigger to compute the histogram\n",
    "im1 = zoom(octagon(), 3)\n",
    "h = hog(im1, cell_size=(2, 2), cells_per_block=(1, 1), visualise=False, nbins=9, signed_orientation=False, normalise=True)\n",
    "im2 = visualise_histogram(h, 8, 8, False)\n",
    "\n",
    "plt.figure()\n",
    "plt.title('HOG features')\n",
    "plt.imshow(im2, cmap=plt.cm.Greys_r)\n",
    "\n",
    "plt.show()"
   ]
  },
  {
   "cell_type": "code",
   "execution_count": 30,
   "metadata": {},
   "outputs": [
    {
     "data": {
      "image/png": "[encoded data removed]",
      "text/plain": [
       "<Figure size 432x288 with 1 Axes>"
      ]
     },
     "metadata": {},
     "output_type": "display_data"
    }
   ],
   "source": [
    "img = result2\n",
    "gx, gy = gradient(img, same_size=False)\n",
    "mag, ori = magnitude_orientation(gx, gy)\n",
    "\n",
    "# Plot histogram \n",
    "from scipy.ndimage.interpolation import zoom\n",
    "# make the image bigger to compute the histogram\n",
    "im1 = zoom(result2, 1)\n",
    "h = hog(im1, cell_size=(2, 2), cells_per_block=(1, 1), visualise=False, nbins=9, signed_orientation=False, normalise=True)\n",
    "im2 = visualise_histogram(h, 8, 8, False)\n",
    "\n",
    "plt.figure()\n",
    "plt.title('HOG features')\n",
    "plt.imshow(im2, cmap=plt.cm.Greys_r)\n",
    "\n",
    "plt.show()"
   ]
  },
  {
   "cell_type": "markdown",
   "metadata": {},
   "source": [
    "# Training"
   ]
  },
  {
   "cell_type": "code",
   "execution_count": 31,
   "metadata": {},
   "outputs": [],
   "source": [
    "import os"
   ]
  },
  {
   "cell_type": "code",
   "execution_count": 32,
   "metadata": {},
   "outputs": [],
   "source": [
    "def get_imlist(path):\n",
    "    return [os.path.join(path,f) for f in os.listdir(path) if f.endswith('.png')]"
   ]
  },
  {
   "cell_type": "code",
   "execution_count": 38,
   "metadata": {},
   "outputs": [
    {
     "data": {
      "text/plain": [
       "['datasets/digit/0.png',\n",
       " 'datasets/digit/1.png',\n",
       " 'datasets/digit/2.png',\n",
       " 'datasets/digit/3.png',\n",
       " 'datasets/digit/4.png',\n",
       " 'datasets/digit/5.png',\n",
       " 'datasets/digit/6.png',\n",
       " 'datasets/digit/7.png',\n",
       " 'datasets/digit/8.png',\n",
       " 'datasets/digit/9.png']"
      ]
     },
     "execution_count": 38,
     "metadata": {},
     "output_type": "execute_result"
    }
   ],
   "source": [
    "path_list = get_imlist('datasets/digit/')\n",
    "path_list = sorted(path_list)\n",
    "path_list"
   ]
  },
  {
   "cell_type": "code",
   "execution_count": 66,
   "metadata": {},
   "outputs": [
    {
     "name": "stdout",
     "output_type": "stream",
     "text": [
      "datasets/digit/0.png\n"
     ]
    },
    {
     "data": {
      "image/png": "[encoded data removed]",
      "text/plain": [
       "<Figure size 432x288 with 1 Axes>"
      ]
     },
     "metadata": {},
     "output_type": "display_data"
    },
    {
     "data": {
      "text/plain": [
       "<Figure size 432x288 with 0 Axes>"
      ]
     },
     "metadata": {},
     "output_type": "display_data"
    },
    {
     "data": {
      "image/png": "[encoded data removed]",
      "text/plain": [
       "<Figure size 432x288 with 1 Axes>"
      ]
     },
     "metadata": {},
     "output_type": "display_data"
    },
    {
     "data": {
      "image/png": "[encoded data removed]",
      "text/plain": [
       "<Figure size 432x288 with 1 Axes>"
      ]
     },
     "metadata": {},
     "output_type": "display_data"
    },
    {
     "name": "stdout",
     "output_type": "stream",
     "text": [
      "datasets/digit/1.png\n"
     ]
    },
    {
     "data": {
      "text/plain": [
       "<Figure size 432x288 with 0 Axes>"
      ]
     },
     "metadata": {},
     "output_type": "display_data"
    },
    {
     "data": {
      "image/png": "[encoded data removed]",
      "text/plain": [
       "<Figure size 432x288 with 1 Axes>"
      ]
     },
     "metadata": {},
     "output_type": "display_data"
    },
    {
     "data": {
      "text/plain": [
       "<Figure size 432x288 with 0 Axes>"
      ]
     },
     "metadata": {},
     "output_type": "display_data"
    },
    {
     "data": {
      "image/png": "[encoded data removed]",
      "text/plain": [
       "<Figure size 432x288 with 1 Axes>"
      ]
     },
     "metadata": {},
     "output_type": "display_data"
    },
    {
     "data": {
      "image/png": "[encoded data removed]",
      "text/plain": [
       "<Figure size 432x288 with 1 Axes>"
      ]
     },
     "metadata": {},
     "output_type": "display_data"
    },
    {
     "data": {
      "image/png": "[encoded data removed]",
      "text/plain": [
       "<Figure size 432x288 with 1 Axes>"
      ]
     },
     "metadata": {},
     "output_type": "display_data"
    },
    {
     "data": {
      "image/png": "[encoded data removed]",
      "text/plain": [
       "<Figure size 432x288 with 1 Axes>"
      ]
     },
     "metadata": {},
     "output_type": "display_data"
    },
    {
     "data": {
      "image/png": "[encoded data removed]",
      "text/plain": [
       "<Figure size 432x288 with 1 Axes>"
      ]
     },
     "metadata": {},
     "output_type": "display_data"
    },
    {
     "data": {
      "image/png": "[encoded data removed]",
      "text/plain": [
       "<Figure size 432x288 with 1 Axes>"
      ]
     },
     "metadata": {},
     "output_type": "display_data"
    },
    {
     "name": "stdout",
     "output_type": "stream",
     "text": [
      "datasets/digit/2.png\n"
     ]
    },
    {
     "data": {
      "text/plain": [
       "<Figure size 432x288 with 0 Axes>"
      ]
     },
     "metadata": {},
     "output_type": "display_data"
    },
    {
     "data": {
      "image/png": "[encoded data removed]",
      "text/plain": [
       "<Figure size 432x288 with 1 Axes>"
      ]
     },
     "metadata": {},
     "output_type": "display_data"
    },
    {
     "data": {
      "text/plain": [
       "<Figure size 432x288 with 0 Axes>"
      ]
     },
     "metadata": {},
     "output_type": "display_data"
    },
    {
     "data": {
      "image/png": "[encoded data removed]",
      "text/plain": [
       "<Figure size 432x288 with 1 Axes>"
      ]
     },
     "metadata": {},
     "output_type": "display_data"
    },
    {
     "data": {
      "image/png": "[encoded data removed]",
      "text/plain": [
       "<Figure size 432x288 with 1 Axes>"
      ]
     },
     "metadata": {},
     "output_type": "display_data"
    },
    {
     "data": {
      "image/png": "[encoded data removed]",
      "text/plain": [
       "<Figure size 432x288 with 1 Axes>"
      ]
     },
     "metadata": {},
     "output_type": "display_data"
    },
    {
     "data": {
      "image/png": "[encoded data removed]",
      "text/plain": [
       "<Figure size 432x288 with 1 Axes>"
      ]
     },
     "metadata": {},
     "output_type": "display_data"
    },
    {
     "data": {
      "image/png": "[encoded data removed]",
      "text/plain": [
       "<Figure size 432x288 with 1 Axes>"
      ]
     },
     "metadata": {},
     "output_type": "display_data"
    },
    {
     "data": {
      "image/png": "[encoded data removed]",
      "text/plain": [
       "<Figure size 432x288 with 1 Axes>"
      ]
     },
     "metadata": {},
     "output_type": "display_data"
    },
    {
     "name": "stdout",
     "output_type": "stream",
     "text": [
      "datasets/digit/3.png\n"
     ]
    },
    {
     "data": {
      "text/plain": [
       "<Figure size 432x288 with 0 Axes>"
      ]
     },
     "metadata": {},
     "output_type": "display_data"
    },
    {
     "data": {
      "image/png": "[encoded data removed]",
      "text/plain": [
       "<Figure size 432x288 with 1 Axes>"
      ]
     },
     "metadata": {},
     "output_type": "display_data"
    },
    {
     "data": {
      "text/plain": [
       "<Figure size 432x288 with 0 Axes>"
      ]
     },
     "metadata": {},
     "output_type": "display_data"
    },
    {
     "data": {
      "image/png": "[encoded data removed]",
      "text/plain": [
       "<Figure size 432x288 with 1 Axes>"
      ]
     },
     "metadata": {},
     "output_type": "display_data"
    },
    {
     "data": {
      "image/png": "[encoded data removed]",
      "text/plain": [
       "<Figure size 432x288 with 1 Axes>"
      ]
     },
     "metadata": {},
     "output_type": "display_data"
    },
    {
     "data": {
      "image/png": "[encoded data removed]",
      "text/plain": [
       "<Figure size 432x288 with 1 Axes>"
      ]
     },
     "metadata": {},
     "output_type": "display_data"
    },
    {
     "data": {
      "image/png": "[encoded data removed]",
      "text/plain": [
       "<Figure size 432x288 with 1 Axes>"
      ]
     },
     "metadata": {},
     "output_type": "display_data"
    },
    {
     "data": {
      "image/png": "[encoded data removed]",
      "text/plain": [
       "<Figure size 432x288 with 1 Axes>"
      ]
     },
     "metadata": {},
     "output_type": "display_data"
    },
    {
     "data": {
      "image/png": "[encoded data removed]",
      "text/plain": [
       "<Figure size 432x288 with 1 Axes>"
      ]
     },
     "metadata": {},
     "output_type": "display_data"
    },
    {
     "name": "stdout",
     "output_type": "stream",
     "text": [
      "datasets/digit/4.png\n"
     ]
    },
    {
     "data": {
      "text/plain": [
       "<Figure size 432x288 with 0 Axes>"
      ]
     },
     "metadata": {},
     "output_type": "display_data"
    },
    {
     "data": {
      "image/png": "[encoded data removed]",
      "text/plain": [
       "<Figure size 432x288 with 1 Axes>"
      ]
     },
     "metadata": {},
     "output_type": "display_data"
    },
    {
     "data": {
      "text/plain": [
       "<Figure size 432x288 with 0 Axes>"
      ]
     },
     "metadata": {},
     "output_type": "display_data"
    },
    {
     "data": {
      "image/png": "[encoded data removed]",
      "text/plain": [
       "<Figure size 432x288 with 1 Axes>"
      ]
     },
     "metadata": {},
     "output_type": "display_data"
    },
    {
     "data": {
      "image/png": "[encoded data removed]",
      "text/plain": [
       "<Figure size 432x288 with 1 Axes>"
      ]
     },
     "metadata": {},
     "output_type": "display_data"
    },
    {
     "data": {
      "image/png": "[encoded data removed]",
      "text/plain": [
       "<Figure size 432x288 with 1 Axes>"
      ]
     },
     "metadata": {},
     "output_type": "display_data"
    },
    {
     "data": {
      "image/png": "[encoded data removed]",
      "text/plain": [
       "<Figure size 432x288 with 1 Axes>"
      ]
     },
     "metadata": {},
     "output_type": "display_data"
    },
    {
     "data": {
      "image/png": "[encoded data removed]",
      "text/plain": [
       "<Figure size 432x288 with 1 Axes>"
      ]
     },
     "metadata": {},
     "output_type": "display_data"
    },
    {
     "data": {
      "image/png": "[encoded data removed]",
      "text/plain": [
       "<Figure size 432x288 with 1 Axes>"
      ]
     },
     "metadata": {},
     "output_type": "display_data"
    },
    {
     "name": "stdout",
     "output_type": "stream",
     "text": [
      "datasets/digit/5.png\n"
     ]
    },
    {
     "data": {
      "text/plain": [
       "<Figure size 432x288 with 0 Axes>"
      ]
     },
     "metadata": {},
     "output_type": "display_data"
    },
    {
     "data": {
      "image/png": "[encoded data removed]",
      "text/plain": [
       "<Figure size 432x288 with 1 Axes>"
      ]
     },
     "metadata": {},
     "output_type": "display_data"
    },
    {
     "data": {
      "text/plain": [
       "<Figure size 432x288 with 0 Axes>"
      ]
     },
     "metadata": {},
     "output_type": "display_data"
    },
    {
     "data": {
      "image/png": "[encoded data removed]",
      "text/plain": [
       "<Figure size 432x288 with 1 Axes>"
      ]
     },
     "metadata": {},
     "output_type": "display_data"
    },
    {
     "data": {
      "image/png": "[encoded data removed]",
      "text/plain": [
       "<Figure size 432x288 with 1 Axes>"
      ]
     },
     "metadata": {},
     "output_type": "display_data"
    },
    {
     "data": {
      "image/png": "[encoded data removed]",
      "text/plain": [
       "<Figure size 432x288 with 1 Axes>"
      ]
     },
     "metadata": {},
     "output_type": "display_data"
    },
    {
     "name": "stdout",
     "output_type": "stream",
     "text": [
      "datasets/digit/6.png\n"
     ]
    },
    {
     "data": {
      "text/plain": [
       "<Figure size 432x288 with 0 Axes>"
      ]
     },
     "metadata": {},
     "output_type": "display_data"
    },
    {
     "data": {
      "image/png": "[encoded data removed]",
      "text/plain": [
       "<Figure size 432x288 with 1 Axes>"
      ]
     },
     "metadata": {},
     "output_type": "display_data"
    },
    {
     "data": {
      "text/plain": [
       "<Figure size 432x288 with 0 Axes>"
      ]
     },
     "metadata": {},
     "output_type": "display_data"
    },
    {
     "data": {
      "image/png": "[encoded data removed]",
      "text/plain": [
       "<Figure size 432x288 with 1 Axes>"
      ]
     },
     "metadata": {},
     "output_type": "display_data"
    },
    {
     "data": {
      "image/png": "[encoded data removed]",
      "text/plain": [
       "<Figure size 432x288 with 1 Axes>"
      ]
     },
     "metadata": {},
     "output_type": "display_data"
    },
    {
     "data": {
      "image/png": "[encoded data removed]",
      "text/plain": [
       "<Figure size 432x288 with 1 Axes>"
      ]
     },
     "metadata": {},
     "output_type": "display_data"
    },
    {
     "data": {
      "image/png": "[encoded data removed]",
      "text/plain": [
       "<Figure size 432x288 with 1 Axes>"
      ]
     },
     "metadata": {},
     "output_type": "display_data"
    },
    {
     "data": {
      "image/png": "[encoded data removed]",
      "text/plain": [
       "<Figure size 432x288 with 1 Axes>"
      ]
     },
     "metadata": {},
     "output_type": "display_data"
    },
    {
     "data": {
      "image/png": "[encoded data removed]",
      "text/plain": [
       "<Figure size 432x288 with 1 Axes>"
      ]
     },
     "metadata": {},
     "output_type": "display_data"
    },
    {
     "name": "stdout",
     "output_type": "stream",
     "text": [
      "datasets/digit/7.png\n"
     ]
    },
    {
     "data": {
      "text/plain": [
       "<Figure size 432x288 with 0 Axes>"
      ]
     },
     "metadata": {},
     "output_type": "display_data"
    },
    {
     "data": {
      "image/png": "[encoded data removed]",
      "text/plain": [
       "<Figure size 432x288 with 1 Axes>"
      ]
     },
     "metadata": {},
     "output_type": "display_data"
    },
    {
     "data": {
      "text/plain": [
       "<Figure size 432x288 with 0 Axes>"
      ]
     },
     "metadata": {},
     "output_type": "display_data"
    },
    {
     "data": {
      "image/png": "[encoded data removed]",
      "text/plain": [
       "<Figure size 432x288 with 1 Axes>"
      ]
     },
     "metadata": {},
     "output_type": "display_data"
    },
    {
     "data": {
      "image/png": "[encoded data removed]",
      "text/plain": [
       "<Figure size 432x288 with 1 Axes>"
      ]
     },
     "metadata": {},
     "output_type": "display_data"
    },
    {
     "data": {
      "image/png": "[encoded data removed]",
      "text/plain": [
       "<Figure size 432x288 with 1 Axes>"
      ]
     },
     "metadata": {},
     "output_type": "display_data"
    },
    {
     "data": {
      "image/png": "[encoded data removed]",
      "text/plain": [
       "<Figure size 432x288 with 1 Axes>"
      ]
     },
     "metadata": {},
     "output_type": "display_data"
    },
    {
     "data": {
      "image/png": "[encoded data removed]",
      "text/plain": [
       "<Figure size 432x288 with 1 Axes>"
      ]
     },
     "metadata": {},
     "output_type": "display_data"
    },
    {
     "data": {
      "image/png": "[encoded data removed]",
      "text/plain": [
       "<Figure size 432x288 with 1 Axes>"
      ]
     },
     "metadata": {},
     "output_type": "display_data"
    },
    {
     "name": "stdout",
     "output_type": "stream",
     "text": [
      "datasets/digit/8.png\n"
     ]
    },
    {
     "data": {
      "text/plain": [
       "<Figure size 432x288 with 0 Axes>"
      ]
     },
     "metadata": {},
     "output_type": "display_data"
    },
    {
     "data": {
      "image/png": "[encoded data removed]",
      "text/plain": [
       "<Figure size 432x288 with 1 Axes>"
      ]
     },
     "metadata": {},
     "output_type": "display_data"
    },
    {
     "data": {
      "text/plain": [
       "<Figure size 432x288 with 0 Axes>"
      ]
     },
     "metadata": {},
     "output_type": "display_data"
    },
    {
     "data": {
      "image/png": "[encoded data removed]",
      "text/plain": [
       "<Figure size 432x288 with 1 Axes>"
      ]
     },
     "metadata": {},
     "output_type": "display_data"
    },
    {
     "data": {
      "image/png": "[encoded data removed]",
      "text/plain": [
       "<Figure size 432x288 with 1 Axes>"
      ]
     },
     "metadata": {},
     "output_type": "display_data"
    },
    {
     "name": "stdout",
     "output_type": "stream",
     "text": [
      "datasets/digit/9.png\n"
     ]
    },
    {
     "data": {
      "text/plain": [
       "<Figure size 432x288 with 0 Axes>"
      ]
     },
     "metadata": {},
     "output_type": "display_data"
    },
    {
     "data": {
      "image/png": "[encoded data removed]",
      "text/plain": [
       "<Figure size 432x288 with 1 Axes>"
      ]
     },
     "metadata": {},
     "output_type": "display_data"
    },
    {
     "data": {
      "text/plain": [
       "<Figure size 432x288 with 0 Axes>"
      ]
     },
     "metadata": {},
     "output_type": "display_data"
    },
    {
     "data": {
      "image/png": "[encoded data removed]",
      "text/plain": [
       "<Figure size 432x288 with 1 Axes>"
      ]
     },
     "metadata": {},
     "output_type": "display_data"
    },
    {
     "data": {
      "image/png": "[encoded data removed]",
      "text/plain": [
       "<Figure size 432x288 with 1 Axes>"
      ]
     },
     "metadata": {},
     "output_type": "display_data"
    },
    {
     "data": {
      "image/png": "[encoded data removed]",
      "text/plain": [
       "<Figure size 432x288 with 1 Axes>"
      ]
     },
     "metadata": {},
     "output_type": "display_data"
    },
    {
     "data": {
      "image/png": "[encoded data removed]",
      "text/plain": [
       "<Figure size 432x288 with 1 Axes>"
      ]
     },
     "metadata": {},
     "output_type": "display_data"
    },
    {
     "data": {
      "text/plain": [
       "<Figure size 432x288 with 0 Axes>"
      ]
     },
     "metadata": {},
     "output_type": "display_data"
    }
   ],
   "source": [
    "counter = 0\n",
    "target = 0\n",
    "X = []\n",
    "y = []\n",
    "for path in path_list:\n",
    "    print(path)\n",
    "    figure(counter + 1)\n",
    "    result = image_thinner.thin_image(convert_image2bw(array(Image.open(path).convert('L'))))\n",
    "    imshow(result)\n",
    "    show()\n",
    "    figure(counter + 2)\n",
    "    result = prune_image(result)\n",
    "    imshow(result)\n",
    "    show()\n",
    "    figure(counter + 3)\n",
    "    result = convert2zero_one(result)\n",
    "    im1 = zoom(result2, 1)\n",
    "    h = hog(im1, cell_size=(2, 2), cells_per_block=(1, 1), visualise=False, nbins=9, signed_orientation=False, normalise=True)\n",
    "    counter += 3\n",
    "\n",
    "    X.append(h)\n",
    "    y.append(target)\n",
    "    target += 1\n",
    "    "
   ]
  },
  {
   "cell_type": "code",
   "execution_count": 67,
   "metadata": {},
   "outputs": [
    {
     "data": {
      "text/plain": [
       "[0, 1, 2, 3, 4, 5, 6, 7, 8, 9]"
      ]
     },
     "execution_count": 67,
     "metadata": {},
     "output_type": "execute_result"
    }
   ],
   "source": [
    "y"
   ]
  },
  {
   "cell_type": "markdown",
   "metadata": {},
   "source": [
    "# Train"
   ]
  },
  {
   "cell_type": "code",
   "execution_count": 75,
   "metadata": {},
   "outputs": [
    {
     "data": {
      "text/plain": [
       "(10, 17955)"
      ]
     },
     "execution_count": 75,
     "metadata": {},
     "output_type": "execute_result"
    }
   ],
   "source": [
    "X = np.array(X)\n",
    "X.shape\n",
    "X = X.reshape(10, -1)\n",
    "X.shape"
   ]
  },
  {
   "cell_type": "code",
   "execution_count": 76,
   "metadata": {},
   "outputs": [],
   "source": [
    "from sklearn.svm import SVC\n",
    "from sklearn.neighbors import k"
   ]
  },
  {
   "cell_type": "code",
   "execution_count": 77,
   "metadata": {},
   "outputs": [
    {
     "data": {
      "text/plain": [
       "SVC(C=1.0, cache_size=200, class_weight=None, coef0=0.0,\n",
       "  decision_function_shape='ovr', degree=3, gamma='auto', kernel='rbf',\n",
       "  max_iter=-1, probability=False, random_state=None, shrinking=True,\n",
       "  tol=0.001, verbose=False)"
      ]
     },
     "execution_count": 77,
     "metadata": {},
     "output_type": "execute_result"
    }
   ],
   "source": [
    "svc = SVC()\n",
    "svc.fit(X, y)"
   ]
  },
  {
   "cell_type": "code",
   "execution_count": 78,
   "metadata": {},
   "outputs": [
    {
     "data": {
      "text/plain": [
       "array([9, 9, 9, 9, 9, 9, 9, 9, 9, 9])"
      ]
     },
     "execution_count": 78,
     "metadata": {},
     "output_type": "execute_result"
    }
   ],
   "source": [
    "svc.predict(X)"
   ]
  }
 ],
 "metadata": {
  "kernelspec": {
   "display_name": "Python 3",
   "language": "python",
   "name": "python3"
  },
  "language_info": {
   "codemirror_mode": {
    "name": "ipython",
    "version": 3
   },
   "file_extension": ".py",
   "mimetype": "text/x-python",
   "name": "python",
   "nbconvert_exporter": "python",
   "pygments_lexer": "ipython3",
   "version": "3.6.6"
  }
 },
 "nbformat": 4,
 "nbformat_minor": 2
}
