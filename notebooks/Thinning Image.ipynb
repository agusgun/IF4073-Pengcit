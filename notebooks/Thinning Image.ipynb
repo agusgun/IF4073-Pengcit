{
 "cells": [
  {
   "cell_type": "code",
   "execution_count": 1,
   "metadata": {},
   "outputs": [],
   "source": [
    "from pylab import *\n",
    "import numpy as np\n",
    "from PIL import Image"
   ]
  },
  {
   "cell_type": "code",
   "execution_count": 2,
   "metadata": {},
   "outputs": [
    {
     "data": {
      "text/plain": [
       "array([[255, 255, 255, ..., 255, 255, 255],\n",
       "       [255, 255, 255, ..., 255, 255, 255],\n",
       "       [255, 255, 255, ..., 255, 255, 255],\n",
       "       ...,\n",
       "       [255, 255, 255, ..., 255, 255, 255],\n",
       "       [255, 255, 255, ..., 255, 255, 255],\n",
       "       [255, 255, 255, ..., 255, 255, 255]], dtype=uint8)"
      ]
     },
     "execution_count": 2,
     "metadata": {},
     "output_type": "execute_result"
    }
   ],
   "source": [
    "array(Image.open('datasets/digit/0.png').convert('L'))"
   ]
  },
  {
   "cell_type": "code",
   "execution_count": 3,
   "metadata": {},
   "outputs": [],
   "source": [
    "def convert_image2bw(image):\n",
    "    \n",
    "    bw_image = image.copy()\n",
    "    \n",
    "    for i, row in enumerate(bw_image):\n",
    "        for j, value in enumerate(row):\n",
    "            if bw_image[i][j] <= 127:\n",
    "                bw_image[i][j] = 0\n",
    "            else:\n",
    "                bw_image[i][j] = 255\n",
    "    return bw_image"
   ]
  },
  {
   "cell_type": "code",
   "execution_count": 4,
   "metadata": {},
   "outputs": [],
   "source": [
    "result = convert_image2bw(array(Image.open('datasets/digit/0.png').convert('L')))"
   ]
  },
  {
   "cell_type": "code",
   "execution_count": 5,
   "metadata": {},
   "outputs": [
    {
     "data": {
      "text/plain": [
       "array([255, 255, 255, 255, 255, 255, 255, 255, 255, 255, 255, 255, 255,\n",
       "         0,   0,   0,   0,   0,   0,   0,   0,   0,   0,   0,   0,   0,\n",
       "         0,   0, 255, 255, 255, 255, 255, 255, 255, 255, 255, 255, 255,\n",
       "       255,   0,   0,   0,   0,   0,   0,   0,   0,   0,   0,   0,   0,\n",
       "         0,   0,   0, 255, 255, 255, 255, 255, 255, 255, 255, 255, 255,\n",
       "       255, 255, 255, 255], dtype=uint8)"
      ]
     },
     "execution_count": 5,
     "metadata": {},
     "output_type": "execute_result"
    }
   ],
   "source": [
    "result[25]"
   ]
  },
  {
   "cell_type": "code",
   "execution_count": 6,
   "metadata": {},
   "outputs": [
    {
     "data": {
      "text/plain": [
       "<matplotlib.image.AxesImage at 0x7f6b9a0d6128>"
      ]
     },
     "execution_count": 6,
     "metadata": {},
     "output_type": "execute_result"
    },
    {
     "data": {
      "image/png": "[encoded data removed]",
      "text/plain": [
       "<Figure size 432x288 with 1 Axes>"
      ]
     },
     "metadata": {},
     "output_type": "display_data"
    }
   ],
   "source": [
    "imshow(result, cmap=\"gray\")"
   ]
  },
  {
   "cell_type": "code",
   "execution_count": 7,
   "metadata": {},
   "outputs": [],
   "source": [
    "# Algorithm can be seen here: https://rosettacode.org/wiki/Zhang-Suen_thinning_algorithm\n",
    "# |P9|P2|P3| \n",
    "# |P8|P1|P4| \n",
    "# |P7|P6|P5| \n",
    "\n",
    "class ImageThinner:\n",
    "    \n",
    "    def __init__(self):\n",
    "        self.X_TRANSLATION = [0, 1, 1, 1, 0, -1, -1, -1]\n",
    "        self.Y_TRANSLATION = [-1, -1, 0, 1, 1, 1, 0, -1]\n",
    "\n",
    "\n",
    "    def neighbors(self, image, x, y):\n",
    "        \"\"\"\n",
    "        Param: image is represented in array\n",
    "        Return neighbors of a pixel \n",
    "        \"\"\"\n",
    "        result = []\n",
    "        for i in range(len(self.X_TRANSLATION)):\n",
    "            result.append(image[y + self.Y_TRANSLATION[i]][x + self.X_TRANSLATION[i]])\n",
    "        return result\n",
    "\n",
    "    def transitions(self, neighbors):\n",
    "        \"\"\"\n",
    "        The number of transitions from white to black in a sequence of\n",
    "        P2, P3, P4, P5, P6, P7, P8, P9, P2\n",
    "        \"\"\"\n",
    "        neighbors_check = neighbors + neighbors[0:1]\n",
    "        result = 0\n",
    "            \n",
    "        for i in range(len(neighbors_check) - 1):\n",
    "            if neighbors_check[i] > 127 and neighbors_check[i + 1] <= 127:\n",
    "                result += 1\n",
    "        \n",
    "        return result\n",
    "\n",
    "    def count_black_pixel(self, neighbors):\n",
    "        \"\"\"\n",
    "        The number of black pixel neighbors\n",
    "        \"\"\"\n",
    "        result = 0\n",
    "        for i in neighbors:\n",
    "            if i <= 127:\n",
    "                result += 1\n",
    "        \n",
    "        return result\n",
    "\n",
    "    def thin_image(self, image):\n",
    "        \"\"\"\n",
    "        Thin the image\n",
    "        \"\"\"\n",
    "        \n",
    "        thinned_image = image.copy()\n",
    "\n",
    "        list_of_change_1 = list_of_change_2 = 1\n",
    "\n",
    "        while list_of_change_1 or list_of_change_2:\n",
    "            rows, column = thinned_image.shape\n",
    "\n",
    "            # First Condition\n",
    "            list_of_change_1 = []\n",
    "            for y in range(1, rows - 1):\n",
    "                for x in range(1, column - 1):\n",
    "                    P2, P3, P4, P5, P6, P7, P8, P9 = neighbors_list = self.neighbors(thinned_image, x, y)\n",
    "\n",
    "                    \n",
    "                    if (thinned_image[y][x] <= 127 and\n",
    "                        2 <= self.count_black_pixel(neighbors_list) <= 6 and\n",
    "                        self.transitions(neighbors_list) == 1 and\n",
    "                        (P2 > 127 or P4 > 127 or P6 > 127) and\n",
    "                        (P4 > 127 or P6 > 127 or P8 > 127)):\n",
    "                        \n",
    "                        list_of_change_1.append((y, x))\n",
    "\n",
    "            for y, x in list_of_change_1:\n",
    "                thinned_image[y][x] = 255                \n",
    "\n",
    "            # Second Condition\n",
    "            list_of_change_2 = []\n",
    "            for y in range(1, rows - 1):\n",
    "                for x in range(1, column - 1):\n",
    "                    P2, P3, P4, P5, P6, P7, P8, P9 = neighbors_list = self.neighbors(thinned_image, x, y)\n",
    "\n",
    "                    if (thinned_image[y][x] <= 127 and\n",
    "                        2 <= self.count_black_pixel(neighbors_list) <= 6 and\n",
    "                        self.transitions(neighbors_list) == 1 and\n",
    "                        (P2 > 127 or P4 > 127 or P8 > 127) and\n",
    "                        (P2 > 127 or P6 > 127 or P8 > 127)):\n",
    "                        \n",
    "                        list_of_change_2.append((y, x))\n",
    "\n",
    "            for y, x in list_of_change_2:\n",
    "                thinned_image[y][x] = 255\n",
    "\n",
    "\n",
    "        return thinned_image"
   ]
  },
  {
   "cell_type": "code",
   "execution_count": 8,
   "metadata": {},
   "outputs": [],
   "source": [
    "image_thinner = ImageThinner()"
   ]
  },
  {
   "cell_type": "code",
   "execution_count": 9,
   "metadata": {},
   "outputs": [
    {
     "data": {
      "text/plain": [
       "array([[255, 255, 255, ..., 255, 255, 255],\n",
       "       [255, 255, 255, ..., 255, 255, 255],\n",
       "       [255, 255, 255, ..., 255, 255, 255],\n",
       "       ...,\n",
       "       [255, 255, 255, ..., 255, 255, 255],\n",
       "       [255, 255, 255, ..., 255, 255, 255],\n",
       "       [255, 255, 255, ..., 255, 255, 255]], dtype=uint8)"
      ]
     },
     "execution_count": 9,
     "metadata": {},
     "output_type": "execute_result"
    }
   ],
   "source": [
    "result = image_thinner.thin_image(convert_image2bw(array(Image.open('datasets/digit/3.png').convert('L'))))\n",
    "result"
   ]
  },
  {
   "cell_type": "code",
   "execution_count": 10,
   "metadata": {
    "scrolled": true
   },
   "outputs": [
    {
     "data": {
      "text/plain": [
       "<matplotlib.image.AxesImage at 0x7f6b99fe6630>"
      ]
     },
     "execution_count": 10,
     "metadata": {},
     "output_type": "execute_result"
    },
    {
     "data": {
      "image/png": "[encoded data removed]",
      "text/plain": [
       "<Figure size 432x288 with 1 Axes>"
      ]
     },
     "metadata": {},
     "output_type": "display_data"
    }
   ],
   "source": [
    "imshow(result, cmap=\"gray\")"
   ]
  }
 ],
 "metadata": {
  "kernelspec": {
   "display_name": "Python 3",
   "language": "python",
   "name": "python3"
  },
  "language_info": {
   "codemirror_mode": {
    "name": "ipython",
    "version": 3
   },
   "file_extension": ".py",
   "mimetype": "text/x-python",
   "name": "python",
   "nbconvert_exporter": "python",
   "pygments_lexer": "ipython3",
   "version": "3.6.6"
  }
 },
 "nbformat": 4,
 "nbformat_minor": 2
}
